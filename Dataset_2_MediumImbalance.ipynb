{
  "nbformat": 4,
  "nbformat_minor": 0,
  "metadata": {
    "colab": {
      "name": "Assignment2_Dataset_2_MediumImbalance.ipynb",
      "provenance": [],
      "collapsed_sections": [],
      "authorship_tag": "ABX9TyOwSfaAqiS7bxSG6x1OeD2r",
      "include_colab_link": true
    },
    "kernelspec": {
      "name": "python3",
      "display_name": "Python 3"
    }
  },
  "cells": [
    {
      "cell_type": "markdown",
      "metadata": {
        "id": "view-in-github",
        "colab_type": "text"
      },
      "source": [
        "<a href=\"https://colab.research.google.com/github/ishwarvenugopal/CE888_Data_Science_and_Decision_Making/blob/master/Project/Assignment_2/Assignment2_Dataset_2_MediumImbalance.ipynb\" target=\"_parent\"><img src=\"https://colab.research.google.com/assets/colab-badge.svg\" alt=\"Open In Colab\"/></a>"
      ]
    },
    {
      "cell_type": "code",
      "metadata": {
        "id": "4-sQ1T2mC9Tq",
        "colab_type": "code",
        "colab": {
          "base_uri": "https://localhost:8080/",
          "height": 72
        },
        "outputId": "b5c63bfe-39a6-4543-ba92-21a8331dca24"
      },
      "source": [
        "import pandas as pd\n",
        "import numpy as np\n",
        "import sklearn\n",
        "from sklearn.model_selection import train_test_split\n",
        "from sklearn.tree import DecisionTreeClassifier\n",
        "from sklearn.model_selection import cross_val_score\n",
        "from sklearn.metrics import confusion_matrix\n",
        "import matplotlib.pyplot as plt\n",
        "import seaborn as sn\n",
        "from sklearn.metrics import plot_confusion_matrix\n",
        "from sklearn.metrics import accuracy_score\n",
        "from sklearn.metrics import classification_report\n",
        "from sklearn.metrics import silhouette_score\n",
        "from sklearn.ensemble import RandomForestClassifier\n",
        "from sklearn.preprocessing import MinMaxScaler\n",
        "from sklearn.cluster import KMeans\n",
        "from sklearn.metrics import cohen_kappa_score\n",
        "from sklearn.metrics import make_scorer"
      ],
      "execution_count": 1,
      "outputs": [
        {
          "output_type": "stream",
          "text": [
            "/usr/local/lib/python3.6/dist-packages/statsmodels/tools/_testing.py:19: FutureWarning: pandas.util.testing is deprecated. Use the functions in the public API at pandas.testing instead.\n",
            "  import pandas.util.testing as tm\n"
          ],
          "name": "stderr"
        }
      ]
    },
    {
      "cell_type": "markdown",
      "metadata": {
        "id": "_11cuhLCzT1h",
        "colab_type": "text"
      },
      "source": [
        "## Load Data"
      ]
    },
    {
      "cell_type": "code",
      "metadata": {
        "id": "LfhO_kKMh8SZ",
        "colab_type": "code",
        "outputId": "6b165553-f87a-4231-a4c6-377742e1c89e",
        "colab": {
          "base_uri": "https://localhost:8080/",
          "height": 256
        }
      },
      "source": [
        "df=pd.read_csv('/content/Dataset_2_medium.csv')\n",
        "df=df.drop('Unnamed: 0',axis=1)\n",
        "df.head()"
      ],
      "execution_count": 2,
      "outputs": [
        {
          "output_type": "execute_result",
          "data": {
            "text/html": [
              "<div>\n",
              "<style scoped>\n",
              "    .dataframe tbody tr th:only-of-type {\n",
              "        vertical-align: middle;\n",
              "    }\n",
              "\n",
              "    .dataframe tbody tr th {\n",
              "        vertical-align: top;\n",
              "    }\n",
              "\n",
              "    .dataframe thead th {\n",
              "        text-align: right;\n",
              "    }\n",
              "</style>\n",
              "<table border=\"1\" class=\"dataframe\">\n",
              "  <thead>\n",
              "    <tr style=\"text-align: right;\">\n",
              "      <th></th>\n",
              "      <th>deg-malig</th>\n",
              "      <th>Class_no-recurrence-events</th>\n",
              "      <th>Class_recurrence-events</th>\n",
              "      <th>age_20-29</th>\n",
              "      <th>age_30-39</th>\n",
              "      <th>age_40-49</th>\n",
              "      <th>age_50-59</th>\n",
              "      <th>age_60-69</th>\n",
              "      <th>age_70-79</th>\n",
              "      <th>menopause_ge40</th>\n",
              "      <th>menopause_lt40</th>\n",
              "      <th>menopause_premeno</th>\n",
              "      <th>tumor-size_0-4</th>\n",
              "      <th>tumor-size_10-14</th>\n",
              "      <th>tumor-size_15-19</th>\n",
              "      <th>tumor-size_20-24</th>\n",
              "      <th>tumor-size_25-29</th>\n",
              "      <th>tumor-size_30-34</th>\n",
              "      <th>tumor-size_35-39</th>\n",
              "      <th>tumor-size_40-44</th>\n",
              "      <th>tumor-size_45-49</th>\n",
              "      <th>tumor-size_5-9</th>\n",
              "      <th>tumor-size_50-54</th>\n",
              "      <th>inv-nodes_0-2</th>\n",
              "      <th>inv-nodes_12-14</th>\n",
              "      <th>inv-nodes_15-17</th>\n",
              "      <th>inv-nodes_24-26</th>\n",
              "      <th>inv-nodes_3-5</th>\n",
              "      <th>inv-nodes_6-8</th>\n",
              "      <th>inv-nodes_9-11</th>\n",
              "      <th>node-caps_no</th>\n",
              "      <th>node-caps_yes</th>\n",
              "      <th>breast_left</th>\n",
              "      <th>breast_right</th>\n",
              "      <th>breast-quad_central</th>\n",
              "      <th>breast-quad_left_low</th>\n",
              "      <th>breast-quad_left_up</th>\n",
              "      <th>breast-quad_right_low</th>\n",
              "      <th>breast-quad_right_up</th>\n",
              "      <th>irradiat_no</th>\n",
              "      <th>irradiat_yes</th>\n",
              "    </tr>\n",
              "  </thead>\n",
              "  <tbody>\n",
              "    <tr>\n",
              "      <th>0</th>\n",
              "      <td>3</td>\n",
              "      <td>1</td>\n",
              "      <td>0</td>\n",
              "      <td>0</td>\n",
              "      <td>1</td>\n",
              "      <td>0</td>\n",
              "      <td>0</td>\n",
              "      <td>0</td>\n",
              "      <td>0</td>\n",
              "      <td>0</td>\n",
              "      <td>0</td>\n",
              "      <td>1</td>\n",
              "      <td>0</td>\n",
              "      <td>0</td>\n",
              "      <td>0</td>\n",
              "      <td>0</td>\n",
              "      <td>0</td>\n",
              "      <td>1</td>\n",
              "      <td>0</td>\n",
              "      <td>0</td>\n",
              "      <td>0</td>\n",
              "      <td>0</td>\n",
              "      <td>0</td>\n",
              "      <td>1</td>\n",
              "      <td>0</td>\n",
              "      <td>0</td>\n",
              "      <td>0</td>\n",
              "      <td>0</td>\n",
              "      <td>0</td>\n",
              "      <td>0</td>\n",
              "      <td>1</td>\n",
              "      <td>0</td>\n",
              "      <td>1</td>\n",
              "      <td>0</td>\n",
              "      <td>0</td>\n",
              "      <td>1</td>\n",
              "      <td>0</td>\n",
              "      <td>0</td>\n",
              "      <td>0</td>\n",
              "      <td>1</td>\n",
              "      <td>0</td>\n",
              "    </tr>\n",
              "    <tr>\n",
              "      <th>1</th>\n",
              "      <td>2</td>\n",
              "      <td>1</td>\n",
              "      <td>0</td>\n",
              "      <td>0</td>\n",
              "      <td>0</td>\n",
              "      <td>1</td>\n",
              "      <td>0</td>\n",
              "      <td>0</td>\n",
              "      <td>0</td>\n",
              "      <td>0</td>\n",
              "      <td>0</td>\n",
              "      <td>1</td>\n",
              "      <td>0</td>\n",
              "      <td>0</td>\n",
              "      <td>0</td>\n",
              "      <td>1</td>\n",
              "      <td>0</td>\n",
              "      <td>0</td>\n",
              "      <td>0</td>\n",
              "      <td>0</td>\n",
              "      <td>0</td>\n",
              "      <td>0</td>\n",
              "      <td>0</td>\n",
              "      <td>1</td>\n",
              "      <td>0</td>\n",
              "      <td>0</td>\n",
              "      <td>0</td>\n",
              "      <td>0</td>\n",
              "      <td>0</td>\n",
              "      <td>0</td>\n",
              "      <td>1</td>\n",
              "      <td>0</td>\n",
              "      <td>0</td>\n",
              "      <td>1</td>\n",
              "      <td>0</td>\n",
              "      <td>0</td>\n",
              "      <td>0</td>\n",
              "      <td>0</td>\n",
              "      <td>1</td>\n",
              "      <td>1</td>\n",
              "      <td>0</td>\n",
              "    </tr>\n",
              "    <tr>\n",
              "      <th>2</th>\n",
              "      <td>2</td>\n",
              "      <td>1</td>\n",
              "      <td>0</td>\n",
              "      <td>0</td>\n",
              "      <td>0</td>\n",
              "      <td>1</td>\n",
              "      <td>0</td>\n",
              "      <td>0</td>\n",
              "      <td>0</td>\n",
              "      <td>0</td>\n",
              "      <td>0</td>\n",
              "      <td>1</td>\n",
              "      <td>0</td>\n",
              "      <td>0</td>\n",
              "      <td>0</td>\n",
              "      <td>1</td>\n",
              "      <td>0</td>\n",
              "      <td>0</td>\n",
              "      <td>0</td>\n",
              "      <td>0</td>\n",
              "      <td>0</td>\n",
              "      <td>0</td>\n",
              "      <td>0</td>\n",
              "      <td>1</td>\n",
              "      <td>0</td>\n",
              "      <td>0</td>\n",
              "      <td>0</td>\n",
              "      <td>0</td>\n",
              "      <td>0</td>\n",
              "      <td>0</td>\n",
              "      <td>1</td>\n",
              "      <td>0</td>\n",
              "      <td>1</td>\n",
              "      <td>0</td>\n",
              "      <td>0</td>\n",
              "      <td>1</td>\n",
              "      <td>0</td>\n",
              "      <td>0</td>\n",
              "      <td>0</td>\n",
              "      <td>1</td>\n",
              "      <td>0</td>\n",
              "    </tr>\n",
              "    <tr>\n",
              "      <th>3</th>\n",
              "      <td>2</td>\n",
              "      <td>1</td>\n",
              "      <td>0</td>\n",
              "      <td>0</td>\n",
              "      <td>0</td>\n",
              "      <td>0</td>\n",
              "      <td>0</td>\n",
              "      <td>1</td>\n",
              "      <td>0</td>\n",
              "      <td>1</td>\n",
              "      <td>0</td>\n",
              "      <td>0</td>\n",
              "      <td>0</td>\n",
              "      <td>0</td>\n",
              "      <td>1</td>\n",
              "      <td>0</td>\n",
              "      <td>0</td>\n",
              "      <td>0</td>\n",
              "      <td>0</td>\n",
              "      <td>0</td>\n",
              "      <td>0</td>\n",
              "      <td>0</td>\n",
              "      <td>0</td>\n",
              "      <td>1</td>\n",
              "      <td>0</td>\n",
              "      <td>0</td>\n",
              "      <td>0</td>\n",
              "      <td>0</td>\n",
              "      <td>0</td>\n",
              "      <td>0</td>\n",
              "      <td>1</td>\n",
              "      <td>0</td>\n",
              "      <td>0</td>\n",
              "      <td>1</td>\n",
              "      <td>0</td>\n",
              "      <td>0</td>\n",
              "      <td>1</td>\n",
              "      <td>0</td>\n",
              "      <td>0</td>\n",
              "      <td>1</td>\n",
              "      <td>0</td>\n",
              "    </tr>\n",
              "    <tr>\n",
              "      <th>4</th>\n",
              "      <td>2</td>\n",
              "      <td>1</td>\n",
              "      <td>0</td>\n",
              "      <td>0</td>\n",
              "      <td>0</td>\n",
              "      <td>1</td>\n",
              "      <td>0</td>\n",
              "      <td>0</td>\n",
              "      <td>0</td>\n",
              "      <td>0</td>\n",
              "      <td>0</td>\n",
              "      <td>1</td>\n",
              "      <td>1</td>\n",
              "      <td>0</td>\n",
              "      <td>0</td>\n",
              "      <td>0</td>\n",
              "      <td>0</td>\n",
              "      <td>0</td>\n",
              "      <td>0</td>\n",
              "      <td>0</td>\n",
              "      <td>0</td>\n",
              "      <td>0</td>\n",
              "      <td>0</td>\n",
              "      <td>1</td>\n",
              "      <td>0</td>\n",
              "      <td>0</td>\n",
              "      <td>0</td>\n",
              "      <td>0</td>\n",
              "      <td>0</td>\n",
              "      <td>0</td>\n",
              "      <td>1</td>\n",
              "      <td>0</td>\n",
              "      <td>0</td>\n",
              "      <td>1</td>\n",
              "      <td>0</td>\n",
              "      <td>0</td>\n",
              "      <td>0</td>\n",
              "      <td>1</td>\n",
              "      <td>0</td>\n",
              "      <td>1</td>\n",
              "      <td>0</td>\n",
              "    </tr>\n",
              "  </tbody>\n",
              "</table>\n",
              "</div>"
            ],
            "text/plain": [
              "   deg-malig  Class_no-recurrence-events  ...  irradiat_no  irradiat_yes\n",
              "0          3                           1  ...            1             0\n",
              "1          2                           1  ...            1             0\n",
              "2          2                           1  ...            1             0\n",
              "3          2                           1  ...            1             0\n",
              "4          2                           1  ...            1             0\n",
              "\n",
              "[5 rows x 41 columns]"
            ]
          },
          "metadata": {
            "tags": []
          },
          "execution_count": 2
        }
      ]
    },
    {
      "cell_type": "code",
      "metadata": {
        "id": "5mCCY7o4iH2X",
        "colab_type": "code",
        "colab": {}
      },
      "source": [
        "#Rearranging the columns such that the class attributes become the last column\n",
        "\n",
        "cols=list(df.columns)\n",
        "cols= cols[:1] + cols[2:] + [cols[1]]\n",
        "df=df[cols]"
      ],
      "execution_count": 0,
      "outputs": []
    },
    {
      "cell_type": "code",
      "metadata": {
        "id": "K2QMOC_9jo1N",
        "colab_type": "code",
        "outputId": "2fb1fc69-2e4e-45e0-ac25-a92f83b29323",
        "colab": {
          "base_uri": "https://localhost:8080/",
          "height": 247
        }
      },
      "source": [
        "columns=df.columns\n",
        "columns"
      ],
      "execution_count": 4,
      "outputs": [
        {
          "output_type": "execute_result",
          "data": {
            "text/plain": [
              "Index(['deg-malig', 'Class_recurrence-events', 'age_20-29', 'age_30-39',\n",
              "       'age_40-49', 'age_50-59', 'age_60-69', 'age_70-79', 'menopause_ge40',\n",
              "       'menopause_lt40', 'menopause_premeno', 'tumor-size_0-4',\n",
              "       'tumor-size_10-14', 'tumor-size_15-19', 'tumor-size_20-24',\n",
              "       'tumor-size_25-29', 'tumor-size_30-34', 'tumor-size_35-39',\n",
              "       'tumor-size_40-44', 'tumor-size_45-49', 'tumor-size_5-9',\n",
              "       'tumor-size_50-54', 'inv-nodes_0-2', 'inv-nodes_12-14',\n",
              "       'inv-nodes_15-17', 'inv-nodes_24-26', 'inv-nodes_3-5', 'inv-nodes_6-8',\n",
              "       'inv-nodes_9-11', 'node-caps_no', 'node-caps_yes', 'breast_left',\n",
              "       'breast_right', 'breast-quad_central', 'breast-quad_left_low',\n",
              "       'breast-quad_left_up', 'breast-quad_right_low', 'breast-quad_right_up',\n",
              "       'irradiat_no', 'irradiat_yes', 'Class_no-recurrence-events'],\n",
              "      dtype='object')"
            ]
          },
          "metadata": {
            "tags": []
          },
          "execution_count": 4
        }
      ]
    },
    {
      "cell_type": "markdown",
      "metadata": {
        "id": "jR9TzzK5zmkT",
        "colab_type": "text"
      },
      "source": [
        "## Defining Train and Test Data"
      ]
    },
    {
      "cell_type": "code",
      "metadata": {
        "id": "zr5h6geWlUIH",
        "colab_type": "code",
        "colab": {}
      },
      "source": [
        "X=df.iloc[:,:-1]\n",
        "y=df.iloc[:,-1]"
      ],
      "execution_count": 0,
      "outputs": []
    },
    {
      "cell_type": "code",
      "metadata": {
        "id": "xNeVGsFola6D",
        "colab_type": "code",
        "colab": {}
      },
      "source": [
        "X_train,X_test,y_train,y_test=train_test_split(X,y,test_size=0.2,random_state=100)"
      ],
      "execution_count": 0,
      "outputs": []
    },
    {
      "cell_type": "markdown",
      "metadata": {
        "id": "dVOHgr1szueo",
        "colab_type": "text"
      },
      "source": [
        "## Baseline 1: Decision Tree "
      ]
    },
    {
      "cell_type": "code",
      "metadata": {
        "id": "xlU9YYxqleNd",
        "colab_type": "code",
        "outputId": "47bd43ff-7afc-4a76-dff9-aba1ce8460e6",
        "colab": {
          "base_uri": "https://localhost:8080/",
          "height": 438
        }
      },
      "source": [
        "clf_dt=DecisionTreeClassifier(criterion=\"entropy\", random_state=10, max_depth=2, min_samples_leaf=4)\n",
        "clf_dt.fit(X_train,y_train)\n",
        "y_predict=clf_dt.predict(X_test)\n",
        "plot_confusion_matrix(clf_dt,X_test,y_test, cmap=plt.cm.Blues)\n",
        "print(classification_report(y_test, y_predict))"
      ],
      "execution_count": 7,
      "outputs": [
        {
          "output_type": "stream",
          "text": [
            "              precision    recall  f1-score   support\n",
            "\n",
            "           0       1.00      1.00      1.00        18\n",
            "           1       1.00      1.00      1.00        38\n",
            "\n",
            "    accuracy                           1.00        56\n",
            "   macro avg       1.00      1.00      1.00        56\n",
            "weighted avg       1.00      1.00      1.00        56\n",
            "\n"
          ],
          "name": "stdout"
        },
        {
          "output_type": "display_data",
          "data": {
            "image/png": "[encoded data removed]",
            "text/plain": [
              "<Figure size 432x288 with 2 Axes>"
            ]
          },
          "metadata": {
            "tags": [],
            "needs_background": "light"
          }
        }
      ]
    },
    {
      "cell_type": "code",
      "metadata": {
        "id": "U1VT5WqXxhFa",
        "colab_type": "code",
        "outputId": "c582bb86-b9ed-411e-ce92-7a52c838ff0c",
        "colab": {
          "base_uri": "https://localhost:8080/",
          "height": 105
        }
      },
      "source": [
        "score1=accuracy_score(y_test,y_predict)\n",
        "print(\"Accuracy (without cross-validation) : {}\".format(score1))\n",
        "\n",
        "score2 = cross_val_score(clf_dt, X_train, y_train, cv=10)\n",
        "print(score2)\n",
        "print(\"Accuracy (after cross-validation): {} (+/- {})\".format(score2.mean(),score2.std()))\n",
        "\n",
        "score3 = cross_val_score(clf_dt, X_train, y_train, cv=10,scoring=make_scorer(cohen_kappa_score))\n",
        "print(score3)\n",
        "print(\"Cohen Kappa Score (after cross-validation): {} (+/- {})\".format(score3.mean(),score3.std()))"
      ],
      "execution_count": 8,
      "outputs": [
        {
          "output_type": "stream",
          "text": [
            "Accuracy (without cross-validation) : 1.0\n",
            "[1. 1. 1. 1. 1. 1. 1. 1. 1. 1.]\n",
            "Accuracy (after cross-validation): 1.0 (+/- 0.0)\n",
            "[1. 1. 1. 1. 1. 1. 1. 1. 1. 1.]\n",
            "Cohen Kappa Score (after cross-validation): 1.0 (+/- 0.0)\n"
          ],
          "name": "stdout"
        }
      ]
    },
    {
      "cell_type": "code",
      "metadata": {
        "id": "DxitGXoyXrCE",
        "colab_type": "code",
        "colab": {}
      },
      "source": [
        "#cohen_kappa_score(y_test, y_predict, labels=None, weights=None)"
      ],
      "execution_count": 0,
      "outputs": []
    },
    {
      "cell_type": "markdown",
      "metadata": {
        "id": "ZGwCOkSI05pw",
        "colab_type": "text"
      },
      "source": [
        "## Baseline 2: Random Forest"
      ]
    },
    {
      "cell_type": "code",
      "metadata": {
        "id": "slWbh4xSr7Fk",
        "colab_type": "code",
        "outputId": "11205568-3c8c-40a5-fba9-84e1654ef023",
        "colab": {
          "base_uri": "https://localhost:8080/",
          "height": 438
        }
      },
      "source": [
        "clf_rf=RandomForestClassifier(n_jobs=2,random_state=0)\n",
        "clf_rf.fit(X_train,y_train)\n",
        "y_predict=clf_rf.predict(X_test)\n",
        "plot_confusion_matrix(clf_rf,X_test,y_test, cmap=plt.cm.Blues)\n",
        "print(classification_report(y_test, y_predict))"
      ],
      "execution_count": 10,
      "outputs": [
        {
          "output_type": "stream",
          "text": [
            "              precision    recall  f1-score   support\n",
            "\n",
            "           0       1.00      1.00      1.00        18\n",
            "           1       1.00      1.00      1.00        38\n",
            "\n",
            "    accuracy                           1.00        56\n",
            "   macro avg       1.00      1.00      1.00        56\n",
            "weighted avg       1.00      1.00      1.00        56\n",
            "\n"
          ],
          "name": "stdout"
        },
        {
          "output_type": "display_data",
          "data": {
            "image/png": "[encoded data removed]",
            "text/plain": [
              "<Figure size 432x288 with 2 Axes>"
            ]
          },
          "metadata": {
            "tags": [],
            "needs_background": "light"
          }
        }
      ]
    },
    {
      "cell_type": "code",
      "metadata": {
        "id": "10r3YbRr1ILq",
        "colab_type": "code",
        "outputId": "37a2cf0c-a00f-494e-a653-e0ca0a30a358",
        "colab": {
          "base_uri": "https://localhost:8080/",
          "height": 105
        }
      },
      "source": [
        "score1_rf=accuracy_score(y_test,y_predict)\n",
        "print(\"Accuracy (without cross-validation) : {}\".format(score1_rf))\n",
        "\n",
        "score2_rf = cross_val_score(clf_rf, X_train, y_train, cv=10)\n",
        "print(score2_rf)\n",
        "print(\"Accuracy (after cross-validation): {} (+/- {})\".format(score2_rf.mean(),score2_rf.std()))\n",
        "\n",
        "score3_rf = cross_val_score(clf_rf, X_train, y_train, cv=10,scoring=make_scorer(cohen_kappa_score))\n",
        "print(score3_rf)\n",
        "print(\"Cohen Kappa Score (after cross-validation): {} (+/- {})\".format(score3_rf.mean(),score3_rf.std()))\n"
      ],
      "execution_count": 11,
      "outputs": [
        {
          "output_type": "stream",
          "text": [
            "Accuracy (without cross-validation) : 1.0\n",
            "[1. 1. 1. 1. 1. 1. 1. 1. 1. 1.]\n",
            "Accuracy (after cross-validation): 1.0 (+/- 0.0)\n",
            "[1. 1. 1. 1. 1. 1. 1. 1. 1. 1.]\n",
            "Cohen Kappa Score (after cross-validation): 1.0 (+/- 0.0)\n"
          ],
          "name": "stdout"
        }
      ]
    },
    {
      "cell_type": "code",
      "metadata": {
        "id": "lNtnK6J5YCez",
        "colab_type": "code",
        "colab": {}
      },
      "source": [
        "#cohen_kappa_score(y_test, y_predict, labels=None, weights=None)"
      ],
      "execution_count": 0,
      "outputs": []
    },
    {
      "cell_type": "markdown",
      "metadata": {
        "id": "PoPnw6vT1tne",
        "colab_type": "text"
      },
      "source": [
        "## Partitioning the dataset into 10 bins, keeping the imbalance ratio from the original dataset "
      ]
    },
    {
      "cell_type": "code",
      "metadata": {
        "id": "3S-W-CxXESlX",
        "colab_type": "code",
        "outputId": "ae9bddb9-45b5-4640-c3c4-9158de4dcc4e",
        "colab": {
          "base_uri": "https://localhost:8080/",
          "height": 88
        }
      },
      "source": [
        "#Original Imbalance\n",
        "\n",
        "target_count=df['Class_no-recurrence-events'].value_counts()\n",
        "print(target_count)\n",
        "\n",
        "imbalance_target=(target_count[1]/(target_count[0]+target_count[1]))*100\n",
        "print(imbalance_target)\n"
      ],
      "execution_count": 0,
      "outputs": [
        {
          "output_type": "stream",
          "text": [
            "1    196\n",
            "0     81\n",
            "Name: Class_no-recurrence-events, dtype: int64\n",
            "70.7581227436823\n"
          ],
          "name": "stdout"
        }
      ]
    },
    {
      "cell_type": "code",
      "metadata": {
        "id": "YgxebliAHrP3",
        "colab_type": "code",
        "colab": {}
      },
      "source": [
        "def create_bins (df,no_of_bins,orig_imbalance):\n",
        "  df_class0=df[df['Class_no-recurrence-events']==0]\n",
        "  df_class1=df[df['Class_no-recurrence-events']==1]\n",
        "\n",
        "  len0=int(len(df_class0)/no_of_bins)\n",
        "  len1=int(len(df_class1)/no_of_bins)\n",
        "\n",
        "  ind0=0\n",
        "  ind1=0\n",
        "  start0=0\n",
        "  start1=0\n",
        "\n",
        "  bins=[]\n",
        "\n",
        "  print(\"Original Imbalance in the dataset: {} %\".format(orig_imbalance))\n",
        "  for i in range(no_of_bins):\n",
        "    ind0+=len0\n",
        "    ind1+=len1\n",
        "    bin_=pd.concat([df_class1.iloc[start1:ind1,:],df_class0.iloc[start0:ind0,:]])\n",
        "    target_cnt=bin_['Class_no-recurrence-events'].value_counts()\n",
        "    imbalance=(target_cnt[1]/(target_cnt[0]+target_cnt[1]))*100\n",
        "    print(\"Class imbalance ratio in bin {} : {} %\".format(i,imbalance))\n",
        "    bins.append(bin_.values)\n",
        "    start0+=len0\n",
        "    start1+=len1\n",
        "\n",
        "  return bins\n",
        "\n"
      ],
      "execution_count": 0,
      "outputs": []
    },
    {
      "cell_type": "code",
      "metadata": {
        "id": "NxLmpvipLhWS",
        "colab_type": "code",
        "outputId": "5403103d-1e9d-4d0d-cedf-19c670f1760f",
        "colab": {
          "base_uri": "https://localhost:8080/",
          "height": 211
        }
      },
      "source": [
        "bins= create_bins(df,10, imbalance_target) #Partitioning the dataset into 10 bins"
      ],
      "execution_count": 0,
      "outputs": [
        {
          "output_type": "stream",
          "text": [
            "Original Imbalance in the dataset: 70.7581227436823 %\n",
            "Class imbalance ratio in bin 0 : 70.37037037037037 %\n",
            "Class imbalance ratio in bin 1 : 70.37037037037037 %\n",
            "Class imbalance ratio in bin 2 : 70.37037037037037 %\n",
            "Class imbalance ratio in bin 3 : 70.37037037037037 %\n",
            "Class imbalance ratio in bin 4 : 70.37037037037037 %\n",
            "Class imbalance ratio in bin 5 : 70.37037037037037 %\n",
            "Class imbalance ratio in bin 6 : 70.37037037037037 %\n",
            "Class imbalance ratio in bin 7 : 70.37037037037037 %\n",
            "Class imbalance ratio in bin 8 : 70.37037037037037 %\n",
            "Class imbalance ratio in bin 9 : 70.37037037037037 %\n"
          ],
          "name": "stdout"
        }
      ]
    },
    {
      "cell_type": "code",
      "metadata": {
        "id": "oHeyWOWr9qSR",
        "colab_type": "code",
        "colab": {}
      },
      "source": [
        "model_accuracies={} #A dictionary to save the accuracies for the different permutations of the bins\n",
        "model_kappa_scores={} #A dictionary to save the cohen kappa scores for the different permutations of the bins"
      ],
      "execution_count": 0,
      "outputs": []
    },
    {
      "cell_type": "markdown",
      "metadata": {
        "id": "8dN3FIS21bf-",
        "colab_type": "text"
      },
      "source": [
        "## Analyzing the number of clusters using Elbow method and Silhouette method"
      ]
    },
    {
      "cell_type": "code",
      "metadata": {
        "id": "wTXY79n0YkBg",
        "colab_type": "code",
        "outputId": "8420b321-a3cd-491a-cc7d-9b3dd9016a68",
        "colab": {
          "base_uri": "https://localhost:8080/",
          "height": 628
        }
      },
      "source": [
        "#***** CHANGE MANUALLY DURING EACH ITERATION *****#\n",
        "\n",
        "i=9 # The bin index to be left-out while training, and used only for testing \n",
        "\n",
        "#************************************************#\n",
        "\n",
        "#CREATE TESTING DATA\n",
        "\n",
        "leave_out=i #for indexing while saving the model accuracies to a dictionary\n",
        "test_data=bins[i] \n",
        "\n",
        "#CREATE TRAINING DATA\n",
        "\n",
        "compile9=np.vstack((bins[j] for j in range(10) if j!=i )) #combining data from all other bins except the left-out one\n",
        "data=pd.DataFrame(compile9)\n",
        "data.columns=columns\n",
        "mms=MinMaxScaler() #normalizing the data\n",
        "mms.fit(data)\n",
        "data_transformed=mms.transform(data)\n",
        "\n",
        "#ELBOW METHOD TO IDENTIFY THE NUMBER OF CLUSTERS\n",
        "\n",
        "Sum_of_squared_distances = []\n",
        "K = range(2,11)\n",
        "for k in K:\n",
        "    km = KMeans(n_clusters=k,random_state=1)\n",
        "    km = km.fit(data_transformed)\n",
        "    Sum_of_squared_distances.append(km.inertia_)\n",
        "plt.plot(K, Sum_of_squared_distances, 'bx-')\n",
        "plt.xlabel('k')\n",
        "plt.ylabel('Sum_of_squared_distances')\n",
        "plt.title('Elbow Method For Optimal k')\n",
        "plt.show()\n",
        "\n",
        "#SILHOUETTE METHOD TO IDENTIFY THE NUMBER OF CLUSTERS\n",
        "K = range(2,11)\n",
        "no_of_clusters=[]\n",
        "silhouette_scores=[]\n",
        "\n",
        "for k in K:\n",
        "    km = KMeans(n_clusters=k,random_state=1)\n",
        "    preds=km.fit_predict(data_transformed)\n",
        "    centers=km.cluster_centers_\n",
        "\n",
        "    score=silhouette_score(data_transformed,preds)\n",
        "\n",
        "    no_of_clusters.append(k)\n",
        "    silhouette_scores.append(score)\n",
        "\n",
        "plt.ylabel(\"Silhouette coefficient\")\n",
        "plt.xlabel(\"k\")\n",
        "plt.title('Silhouette Method For Optimal k')\n",
        "plt.bar(no_of_clusters,silhouette_scores)\n",
        "plt.show()"
      ],
      "execution_count": 0,
      "outputs": [
        {
          "output_type": "stream",
          "text": [
            "/usr/local/lib/python3.6/dist-packages/ipykernel_launcher.py:13: FutureWarning: arrays to stack must be passed as a \"sequence\" type such as list or tuple. Support for non-sequence iterables such as generators is deprecated as of NumPy 1.16 and will raise an error in the future.\n",
            "  del sys.path[0]\n"
          ],
          "name": "stderr"
        },
        {
          "output_type": "display_data",
          "data": {
            "image/png": "[encoded data removed]",
            "text/plain": [
              "<Figure size 432x288 with 1 Axes>"
            ]
          },
          "metadata": {
            "tags": [],
            "needs_background": "light"
          }
        },
        {
          "output_type": "display_data",
          "data": {
            "image/png": "[encoded data removed]",
            "text/plain": [
              "<Figure size 432x288 with 1 Axes>"
            ]
          },
          "metadata": {
            "tags": [],
            "needs_background": "light"
          }
        }
      ]
    },
    {
      "cell_type": "code",
      "metadata": {
        "id": "YaFWKeg9iHXD",
        "colab_type": "code",
        "outputId": "c6319c3b-2a29-45ea-ef75-e44606ed1bed",
        "colab": {
          "base_uri": "https://localhost:8080/",
          "height": 565
        }
      },
      "source": [
        "#*****CHANGE MANUALLY DURING EACH ITERATION*****#\n",
        "\n",
        "num_of_clusters=8 #Decided after looking at the plots from the previous cell \n",
        "\n",
        "#***********************************************#\n",
        "\n",
        "min_class=0 # The minority class label\n",
        "max_class=1 # The majority class label\n",
        "\n",
        "#***********************************************#\n",
        "\n",
        "#FITTING A K-MEANS CLUSTERING MODEL\n",
        "\n",
        "kmeans = KMeans(n_clusters=num_of_clusters, random_state=1)\n",
        "kmeans.fit_predict(data_transformed)\n",
        "\n",
        "cluster_df=data\n",
        "cluster_df[\"Cluster label\"]=kmeans.labels_\n",
        "cols=list(cluster_df.columns)\n",
        "cols= cols[:-2] + [cols[-1]] + [cols[-2]]\n",
        "cluster_df=cluster_df[cols]\n",
        "  \n",
        "g=globals() #To facilitate naming dynamically\n",
        "\n",
        "#Filtering out the data belonging to each cluster\n",
        "\n",
        "for i in range(0,num_of_clusters):\n",
        "  g['cluster_{}'.format(i)] = cluster_df[cluster_df['Cluster label']==i]\n",
        "\n",
        "#Checking for number of entries from minority class in each cluster\n",
        "\n",
        "for i in range(0,num_of_clusters):\n",
        "  g['clus_{}_class_{}'.format(i,min_class)] = g['cluster_{}'.format(i)][g['cluster_{}'.format(i)]['Class_no-recurrence-events']==min_class]\n",
        "  if (len(g['clus_{}_class_{}'.format(i,min_class)])!=0):\n",
        "    g['X{}'.format(i)]=g['cluster_{}'.format(i)].iloc[:,:-1]\n",
        "    g['y{}'.format(i)]=g['cluster_{}'.format(i)].iloc[:,-1]\n",
        "    g['clf_{}'.format(i)]=RandomForestClassifier(n_jobs=2,random_state=0)\n",
        "    g['clf_{}'.format(i)].fit(g['X{}'.format(i)],g['y{}'.format(i)])\n",
        "    g['Class_val_{}{}'.format(i,min_class)]=min_class\n",
        "  else:\n",
        "    g['Class_val_{}{}'.format(i,min_class)]=max_class\n",
        "  \n",
        "#CREATING THE TEST DATA\n",
        "\n",
        "test_cluster=pd.DataFrame(test_data)\n",
        "test_cluster.columns=df.columns\n",
        "test_cluster[\"Cluster label\"]=kmeans.predict(test_data)\n",
        "cols=list(test_cluster.columns)\n",
        "cols= cols[:-2] + [cols[-1]] + [cols[-2]]\n",
        "test_cluster=test_cluster[cols]\n",
        "\n",
        "#Dividing the results based on cluster label, to predict the class labels of the corresponding entries\n",
        "\n",
        "for i in range(0,num_of_clusters):\n",
        "  g['test_{}'.format(i)] = test_cluster[test_cluster['Cluster label']==i]\n",
        "  if(len(g['test_{}'.format(i)])!=0):\n",
        "    if(g['Class_val_{}{}'.format(i,min_class)]==min_class): #Checking if the dataset contains values from both the classes\n",
        "      g['X_test{}'.format(i)]=g['test_{}'.format(i)].iloc[:,:-1]\n",
        "      g['y_test{}'.format(i)]=g['test_{}'.format(i)].iloc[:,-1]\n",
        "      g['y_pred{}'.format(i)]=g['clf_{}'.format(i)].predict(g['X_test{}'.format(i)])\n",
        "      g['test_{}'.format(i)]['Predicted class']=g['y_pred{}'.format(i)]\n",
        "    else:\n",
        "      g['y_pred{}'.format(i)]=np.full(len(g['test_{}'.format(i)]),max_class)\n",
        "      g['test_{}'.format(i)]['Predicted class']=g['y_pred{}'.format(i)]\n",
        "\n",
        "#Compiling the results and predictions for performance checking\n",
        "\n",
        "final_test=pd.concat([g['test_{}'.format(i)] for i in range(0,num_of_clusters) if(len(g['test_{}'.format(i)])!=0)])\n",
        "trial_accuracy=accuracy_score(final_test.iloc[:,-2],final_test.iloc[:,-1]) #computing accuracy based on real class labels\n",
        "print(\"Accuracy : {}\".format(trial_accuracy))\n",
        "\n",
        "model_accuracies[leave_out]=trial_accuracy #Saving the accuracy for this permutation\n",
        "trial_kappa =cohen_kappa_score(y_test, y_predict, labels=None, weights=None)\n",
        "model_kappa_scores[leave_out]=trial_kappa #Saving the cohen kappa score for this permutation"
      ],
      "execution_count": 0,
      "outputs": [
        {
          "output_type": "stream",
          "text": [
            "/usr/local/lib/python3.6/dist-packages/ipykernel_launcher.py:60: SettingWithCopyWarning: \n",
            "A value is trying to be set on a copy of a slice from a DataFrame.\n",
            "Try using .loc[row_indexer,col_indexer] = value instead\n",
            "\n",
            "See the caveats in the documentation: https://pandas.pydata.org/pandas-docs/stable/user_guide/indexing.html#returning-a-view-versus-a-copy\n",
            "/usr/local/lib/python3.6/dist-packages/ipykernel_launcher.py:63: SettingWithCopyWarning: \n",
            "A value is trying to be set on a copy of a slice from a DataFrame.\n",
            "Try using .loc[row_indexer,col_indexer] = value instead\n",
            "\n",
            "See the caveats in the documentation: https://pandas.pydata.org/pandas-docs/stable/user_guide/indexing.html#returning-a-view-versus-a-copy\n",
            "/usr/local/lib/python3.6/dist-packages/ipykernel_launcher.py:60: SettingWithCopyWarning: \n",
            "A value is trying to be set on a copy of a slice from a DataFrame.\n",
            "Try using .loc[row_indexer,col_indexer] = value instead\n",
            "\n",
            "See the caveats in the documentation: https://pandas.pydata.org/pandas-docs/stable/user_guide/indexing.html#returning-a-view-versus-a-copy\n",
            "/usr/local/lib/python3.6/dist-packages/ipykernel_launcher.py:60: SettingWithCopyWarning: \n",
            "A value is trying to be set on a copy of a slice from a DataFrame.\n",
            "Try using .loc[row_indexer,col_indexer] = value instead\n",
            "\n",
            "See the caveats in the documentation: https://pandas.pydata.org/pandas-docs/stable/user_guide/indexing.html#returning-a-view-versus-a-copy\n",
            "/usr/local/lib/python3.6/dist-packages/ipykernel_launcher.py:60: SettingWithCopyWarning: \n",
            "A value is trying to be set on a copy of a slice from a DataFrame.\n",
            "Try using .loc[row_indexer,col_indexer] = value instead\n",
            "\n",
            "See the caveats in the documentation: https://pandas.pydata.org/pandas-docs/stable/user_guide/indexing.html#returning-a-view-versus-a-copy\n"
          ],
          "name": "stderr"
        },
        {
          "output_type": "stream",
          "text": [
            "Accuracy : 0.9629629629629629\n"
          ],
          "name": "stdout"
        },
        {
          "output_type": "stream",
          "text": [
            "/usr/local/lib/python3.6/dist-packages/ipykernel_launcher.py:60: SettingWithCopyWarning: \n",
            "A value is trying to be set on a copy of a slice from a DataFrame.\n",
            "Try using .loc[row_indexer,col_indexer] = value instead\n",
            "\n",
            "See the caveats in the documentation: https://pandas.pydata.org/pandas-docs/stable/user_guide/indexing.html#returning-a-view-versus-a-copy\n"
          ],
          "name": "stderr"
        }
      ]
    },
    {
      "cell_type": "code",
      "metadata": {
        "id": "ZlYDsUHA-AAF",
        "colab_type": "code",
        "outputId": "fcca7168-2827-4812-edc1-afcd4f0e06e1",
        "colab": {
          "base_uri": "https://localhost:8080/",
          "height": 194
        }
      },
      "source": [
        "model_accuracies"
      ],
      "execution_count": 0,
      "outputs": [
        {
          "output_type": "execute_result",
          "data": {
            "text/plain": [
              "{0: 0.9629629629629629,\n",
              " 1: 0.9259259259259259,\n",
              " 2: 1.0,\n",
              " 3: 0.9629629629629629,\n",
              " 4: 0.9259259259259259,\n",
              " 5: 1.0,\n",
              " 6: 1.0,\n",
              " 7: 0.8888888888888888,\n",
              " 8: 0.8888888888888888,\n",
              " 9: 0.9629629629629629}"
            ]
          },
          "metadata": {
            "tags": []
          },
          "execution_count": 116
        }
      ]
    },
    {
      "cell_type": "code",
      "metadata": {
        "id": "cDH6TbHwZdcc",
        "colab_type": "code",
        "outputId": "d8a8f8cb-a7be-4b4a-addb-9d0ea6d96091",
        "colab": {
          "base_uri": "https://localhost:8080/",
          "height": 194
        }
      },
      "source": [
        "model_kappa_scores"
      ],
      "execution_count": 0,
      "outputs": [
        {
          "output_type": "execute_result",
          "data": {
            "text/plain": [
              "{0: 1.0,\n",
              " 1: 1.0,\n",
              " 2: 1.0,\n",
              " 3: 1.0,\n",
              " 4: 1.0,\n",
              " 5: 1.0,\n",
              " 6: 1.0,\n",
              " 7: 1.0,\n",
              " 8: 1.0,\n",
              " 9: 1.0}"
            ]
          },
          "metadata": {
            "tags": []
          },
          "execution_count": 117
        }
      ]
    },
    {
      "cell_type": "code",
      "metadata": {
        "id": "FI30qLWYsBby",
        "colab_type": "code",
        "outputId": "6e355781-a966-43f9-f4be-63be43ee3457",
        "colab": {
          "base_uri": "https://localhost:8080/",
          "height": 52
        }
      },
      "source": [
        "acc_values=np.array([model_accuracies[k] for k in model_accuracies])\n",
        "acc_values"
      ],
      "execution_count": 0,
      "outputs": [
        {
          "output_type": "execute_result",
          "data": {
            "text/plain": [
              "array([0.96296296, 0.92592593, 1.        , 0.96296296, 0.92592593,\n",
              "       1.        , 1.        , 0.88888889, 0.88888889, 0.96296296])"
            ]
          },
          "metadata": {
            "tags": []
          },
          "execution_count": 118
        }
      ]
    },
    {
      "cell_type": "code",
      "metadata": {
        "id": "eoG7cXXtECgF",
        "colab_type": "code",
        "outputId": "b4b85908-616c-40f2-f5e0-c1f2f4e05fbf",
        "colab": {
          "base_uri": "https://localhost:8080/",
          "height": 123
        }
      },
      "source": [
        "print(\"Decision Tree model:\")\n",
        "print(\"Accuracy (after cross-validation): {} (+/- {})\".format(score2.mean(),score2.std()))\n",
        "print(\"Random Forest model:\")\n",
        "print(\"Accuracy (after cross-validation): {} (+/- {})\".format(score2_rf.mean(),score2_rf.std()))\n",
        "print(\"New model:\")\n",
        "print(\"Accuracy : {} (+/- {})\".format(acc_values.mean(),acc_values.std()))"
      ],
      "execution_count": 0,
      "outputs": [
        {
          "output_type": "stream",
          "text": [
            "Decision Tree model:\n",
            "Accuracy (after cross-validation): 1.0 (+/- 0.0)\n",
            "Random Forest model:\n",
            "Accuracy (after cross-validation): 1.0 (+/- 0.0)\n",
            "New model:\n",
            "Accuracy : 0.951851851851852 (+/- 0.04074074074074075)\n"
          ],
          "name": "stdout"
        }
      ]
    },
    {
      "cell_type": "code",
      "metadata": {
        "id": "86nYZ_F2EKJT",
        "colab_type": "code",
        "outputId": "2f49567c-a607-42ff-aa40-27d2781c7ec4",
        "colab": {
          "base_uri": "https://localhost:8080/",
          "height": 35
        }
      },
      "source": [
        "kappa_values=np.array([model_kappa_scores[k] for k in model_kappa_scores])\n",
        "kappa_values"
      ],
      "execution_count": 0,
      "outputs": [
        {
          "output_type": "execute_result",
          "data": {
            "text/plain": [
              "array([1., 1., 1., 1., 1., 1., 1., 1., 1., 1.])"
            ]
          },
          "metadata": {
            "tags": []
          },
          "execution_count": 120
        }
      ]
    },
    {
      "cell_type": "code",
      "metadata": {
        "id": "bLSUAp_PhYRg",
        "colab_type": "code",
        "outputId": "9789deb3-8888-4920-cac2-de04c218dc28",
        "colab": {
          "base_uri": "https://localhost:8080/",
          "height": 88
        }
      },
      "source": [
        "print(\"Kappa Scores:\")\n",
        "print(\"Decision Tree: : {} (+/- {})\".format(score3.mean(),score3.std()))\n",
        "print(\"Random Forest: : {} (+/- {})\".format(score3_rf.mean(),score3_rf.std()))\n",
        "print(\"New Model: : {} (+/- {})\".format(kappa_values.mean(),kappa_values.std()))"
      ],
      "execution_count": 0,
      "outputs": [
        {
          "output_type": "stream",
          "text": [
            "Kappa Scores:\n",
            "Decision Tree: : 1.0 (+/- 0.0)\n",
            "Random Forest: : 1.0 (+/- 0.0)\n",
            "New Model: : 1.0 (+/- 0.0)\n"
          ],
          "name": "stdout"
        }
      ]
    },
    {
      "cell_type": "markdown",
      "metadata": {
        "id": "yahi5wxXDERy",
        "colab_type": "text"
      },
      "source": [
        "## Permutation tests"
      ]
    },
    {
      "cell_type": "code",
      "metadata": {
        "id": "WfUTLgeMhkfm",
        "colab_type": "code",
        "colab": {}
      },
      "source": [
        "def calc_pvalue(iterations,data_1,data_2,t_obs):\n",
        "  concat = np.concatenate((data_1,data_2))\n",
        "  cnt=0\n",
        "  for i in range(0,iterations):\n",
        "    perm = np.random.permutation(concat)\n",
        "    pcurrent = perm[:len(data_1)]\n",
        "    pnew = perm[len(data_1):]\n",
        "    mean_perm_current=pcurrent.mean()\n",
        "    mean_perm_new=pnew.mean()\n",
        "    t_perm=mean_perm_new-mean_perm_current\n",
        "    if(t_perm>t_obs):\n",
        "      cnt+=1\n",
        "  p_value=cnt/iterations\n",
        "  return p_value"
      ],
      "execution_count": 0,
      "outputs": []
    },
    {
      "cell_type": "code",
      "metadata": {
        "id": "W5ZAvtAKDFxj",
        "colab_type": "code",
        "outputId": "ed952bf9-1116-4988-c635-e783d860f01d",
        "colab": {
          "base_uri": "https://localhost:8080/",
          "height": 158
        }
      },
      "source": [
        "acc_old_1 = np.array([1,1,1,1,1,1,1,1,1,1])\n",
        "kappa_old_1=np.array([1,1,1,1,1,1,1,1,1,1])\n",
        "acc_old_2=np.array([1,1,1,1,1,1,1,1,1,1])\n",
        "kappa_old_2=np.array([1,1,1,1,1,1,1,1,1,1])\n",
        "\n",
        "acc_new=np.array([0.96296296, 0.92592593, 1.        , 0.96296296, 0.92592593, 1.        , 1.        , 0.88888889, 0.88888889, 0.96296296])\n",
        "kappa_new=np.array([1., 1., 1., 1., 1., 1., 1., 1., 1., 1.])\n",
        "\n",
        "#Accuracy: DT and new\n",
        "mean_old=acc_old_1.mean()\n",
        "mean_new=acc_new.mean()\n",
        "t_obs=mean_new-mean_old\n",
        "p_val=calc_pvalue(50000,acc_old_1,acc_new,t_obs)\n",
        "print(\"Accuracy comparison between Decision Tree and new method:\")\n",
        "print(\"p-value: {}\".format(p_val))\n",
        "\n",
        "#Accuracy: RF and new\n",
        "mean_old=acc_old_2.mean()\n",
        "mean_new=acc_new.mean()\n",
        "t_obs=mean_new-mean_old\n",
        "p_val=calc_pvalue(50000,acc_old_2,acc_new,t_obs)\n",
        "print(\"Accuracy comparison between Random Forest and new method:\")\n",
        "print(\"p-value: {}\".format(p_val))\n",
        "\n",
        "#Kappa: DT and new\n",
        "mean_old=kappa_old_1.mean()\n",
        "mean_new=kappa_new.mean()\n",
        "t_obs=mean_new-mean_old\n",
        "p_val=calc_pvalue(50000,kappa_old_1,kappa_new,t_obs)\n",
        "print(\"Kappa comparison between Decision Tree and new method:\")\n",
        "print(\"p-value: {}\".format(p_val))\n",
        "\n",
        "#Kappa: RF and new\n",
        "mean_old=kappa_old_2.mean()\n",
        "mean_new=kappa_new.mean()\n",
        "t_obs=mean_new-mean_old\n",
        "p_val=calc_pvalue(50000,kappa_old_2,acc_new,t_obs)\n",
        "print(\"Kappa comparison between Random Forest and new method:\")\n",
        "print(\"p-value: {}\".format(p_val))"
      ],
      "execution_count": 14,
      "outputs": [
        {
          "output_type": "stream",
          "text": [
            "Accuracy comparison between Decision Tree and new method:\n",
            "p-value: 0.99868\n",
            "Accuracy comparison between Random Forest and new method:\n",
            "p-value: 0.99836\n",
            "Kappa comparison between Decision Tree and new method:\n",
            "p-value: 0.0\n",
            "Kappa comparison between Random Forest and new method:\n",
            "p-value: 0.50024\n"
          ],
          "name": "stdout"
        }
      ]
    },
    {
      "cell_type": "code",
      "metadata": {
        "id": "js471FOZD2pd",
        "colab_type": "code",
        "colab": {}
      },
      "source": [
        ""
      ],
      "execution_count": 0,
      "outputs": []
    }
  ]
}