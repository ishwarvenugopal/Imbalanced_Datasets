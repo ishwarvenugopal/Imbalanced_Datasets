{
  "nbformat": 4,
  "nbformat_minor": 0,
  "metadata": {
    "colab": {
      "name": "Assignment2_Dataset_1_LowImbalance.ipynb",
      "provenance": [],
      "collapsed_sections": [],
      "authorship_tag": "ABX9TyPmP7viwp1OzEJzCms/Rj3m",
      "include_colab_link": true
    },
    "kernelspec": {
      "name": "python3",
      "display_name": "Python 3"
    }
  },
  "cells": [
    {
      "cell_type": "markdown",
      "metadata": {
        "id": "view-in-github",
        "colab_type": "text"
      },
      "source": [
        "<a href=\"https://colab.research.google.com/github/ishwarvenugopal/CE888_Data_Science_and_Decision_Making/blob/master/Project/Assignment_2/Assignment2_Dataset_1_LowImbalance.ipynb\" target=\"_parent\"><img src=\"https://colab.research.google.com/assets/colab-badge.svg\" alt=\"Open In Colab\"/></a>"
      ]
    },
    {
      "cell_type": "code",
      "metadata": {
        "id": "4-sQ1T2mC9Tq",
        "colab_type": "code",
        "colab": {}
      },
      "source": [
        "import pandas as pd\n",
        "import numpy as np\n",
        "import sklearn\n",
        "from sklearn.model_selection import train_test_split\n",
        "from sklearn.tree import DecisionTreeClassifier\n",
        "from sklearn.model_selection import cross_val_score\n",
        "from sklearn.metrics import confusion_matrix\n",
        "import matplotlib.pyplot as plt\n",
        "import seaborn as sn\n",
        "from sklearn.metrics import plot_confusion_matrix\n",
        "from sklearn.metrics import accuracy_score\n",
        "from sklearn.metrics import classification_report\n",
        "from sklearn.ensemble import RandomForestClassifier\n",
        "from sklearn.preprocessing import MinMaxScaler\n",
        "from sklearn.cluster import KMeans\n",
        "from sklearn.metrics import cohen_kappa_score\n",
        "from sklearn.metrics import silhouette_score\n",
        "from sklearn.metrics import make_scorer"
      ],
      "execution_count": 0,
      "outputs": []
    },
    {
      "cell_type": "markdown",
      "metadata": {
        "id": "_11cuhLCzT1h",
        "colab_type": "text"
      },
      "source": [
        "## Load Data"
      ]
    },
    {
      "cell_type": "code",
      "metadata": {
        "id": "LfhO_kKMh8SZ",
        "colab_type": "code",
        "outputId": "673cc4ff-5733-464b-ad68-3b4ddccbd7ee",
        "colab": {
          "base_uri": "https://localhost:8080/",
          "height": 239
        }
      },
      "source": [
        "df=pd.read_csv('/content/Dataset1_low.csv')\n",
        "df.head()"
      ],
      "execution_count": 21,
      "outputs": [
        {
          "output_type": "execute_result",
          "data": {
            "text/html": [
              "<div>\n",
              "<style scoped>\n",
              "    .dataframe tbody tr th:only-of-type {\n",
              "        vertical-align: middle;\n",
              "    }\n",
              "\n",
              "    .dataframe tbody tr th {\n",
              "        vertical-align: top;\n",
              "    }\n",
              "\n",
              "    .dataframe thead th {\n",
              "        text-align: right;\n",
              "    }\n",
              "</style>\n",
              "<table border=\"1\" class=\"dataframe\">\n",
              "  <thead>\n",
              "    <tr style=\"text-align: right;\">\n",
              "      <th></th>\n",
              "      <th>gender</th>\n",
              "      <th>symptoms</th>\n",
              "      <th>alcohol</th>\n",
              "      <th>hepatitis_b_surface_antigen</th>\n",
              "      <th>hepatitis_b_e_antigen</th>\n",
              "      <th>hepatitis_b_core_antibody</th>\n",
              "      <th>hepatitis_c_virus_antibody</th>\n",
              "      <th>cirrhosis</th>\n",
              "      <th>endemic_countries</th>\n",
              "      <th>smoking</th>\n",
              "      <th>diabetes</th>\n",
              "      <th>obesity</th>\n",
              "      <th>hemochromatosis</th>\n",
              "      <th>arterial_hypertension</th>\n",
              "      <th>chronic_renal_insufficiency</th>\n",
              "      <th>human_immunodeficiency_virus</th>\n",
              "      <th>nonalcoholic_steatohepatitis</th>\n",
              "      <th>esophageal_varices</th>\n",
              "      <th>splenomegaly</th>\n",
              "      <th>portal_hypertension</th>\n",
              "      <th>portal_vein_thrombosis</th>\n",
              "      <th>liver_metastasis</th>\n",
              "      <th>radiological_hallmark</th>\n",
              "      <th>age</th>\n",
              "      <th>grams_of_alcohol_per_day</th>\n",
              "      <th>packs_of_cigarets_per_year</th>\n",
              "      <th>performance_status</th>\n",
              "      <th>encephalopathy_degree</th>\n",
              "      <th>ascites_degree</th>\n",
              "      <th>international_normalised_ratio</th>\n",
              "      <th>alpha-fetoprotein</th>\n",
              "      <th>haemoglobin</th>\n",
              "      <th>mean_corpuscular_volume</th>\n",
              "      <th>leukocytes</th>\n",
              "      <th>platelets</th>\n",
              "      <th>albumin</th>\n",
              "      <th>total_bilirubin</th>\n",
              "      <th>alanine_transaminase</th>\n",
              "      <th>aspartate_transaminase</th>\n",
              "      <th>gamma_glutamyl_transferase</th>\n",
              "      <th>alkaline_phosphatase</th>\n",
              "      <th>total_proteins</th>\n",
              "      <th>creatinine</th>\n",
              "      <th>number_of_nodules</th>\n",
              "      <th>major_dimension_of_nodule_cm</th>\n",
              "      <th>direct_bilirubin_mg/dL</th>\n",
              "      <th>iron</th>\n",
              "      <th>oxygen_saturation_%</th>\n",
              "      <th>ferritin</th>\n",
              "      <th>class_attribute</th>\n",
              "      <th>age_</th>\n",
              "    </tr>\n",
              "  </thead>\n",
              "  <tbody>\n",
              "    <tr>\n",
              "      <th>0</th>\n",
              "      <td>1</td>\n",
              "      <td>1</td>\n",
              "      <td>1</td>\n",
              "      <td>0</td>\n",
              "      <td>0</td>\n",
              "      <td>0</td>\n",
              "      <td>0</td>\n",
              "      <td>1</td>\n",
              "      <td>0</td>\n",
              "      <td>1</td>\n",
              "      <td>1</td>\n",
              "      <td>0</td>\n",
              "      <td>0</td>\n",
              "      <td>1</td>\n",
              "      <td>0</td>\n",
              "      <td>0</td>\n",
              "      <td>0</td>\n",
              "      <td>0</td>\n",
              "      <td>0</td>\n",
              "      <td>0</td>\n",
              "      <td>0</td>\n",
              "      <td>1</td>\n",
              "      <td>1</td>\n",
              "      <td>77</td>\n",
              "      <td>40.000000</td>\n",
              "      <td>30.000000</td>\n",
              "      <td>0</td>\n",
              "      <td>1</td>\n",
              "      <td>1</td>\n",
              "      <td>0.95</td>\n",
              "      <td>2440.0</td>\n",
              "      <td>13.4</td>\n",
              "      <td>97.1</td>\n",
              "      <td>9.0</td>\n",
              "      <td>279.0</td>\n",
              "      <td>3.70</td>\n",
              "      <td>0.40</td>\n",
              "      <td>16.0</td>\n",
              "      <td>64.0</td>\n",
              "      <td>94.0</td>\n",
              "      <td>174.0</td>\n",
              "      <td>8.1</td>\n",
              "      <td>1.11</td>\n",
              "      <td>2</td>\n",
              "      <td>15.700000</td>\n",
              "      <td>0.20</td>\n",
              "      <td>71.658458</td>\n",
              "      <td>26.132335</td>\n",
              "      <td>399.772698</td>\n",
              "      <td>0</td>\n",
              "      <td>0.827957</td>\n",
              "    </tr>\n",
              "    <tr>\n",
              "      <th>1</th>\n",
              "      <td>1</td>\n",
              "      <td>0</td>\n",
              "      <td>1</td>\n",
              "      <td>0</td>\n",
              "      <td>0</td>\n",
              "      <td>0</td>\n",
              "      <td>0</td>\n",
              "      <td>1</td>\n",
              "      <td>0</td>\n",
              "      <td>0</td>\n",
              "      <td>0</td>\n",
              "      <td>1</td>\n",
              "      <td>0</td>\n",
              "      <td>0</td>\n",
              "      <td>0</td>\n",
              "      <td>0</td>\n",
              "      <td>0</td>\n",
              "      <td>1</td>\n",
              "      <td>1</td>\n",
              "      <td>1</td>\n",
              "      <td>0</td>\n",
              "      <td>0</td>\n",
              "      <td>1</td>\n",
              "      <td>75</td>\n",
              "      <td>1.449521</td>\n",
              "      <td>0.000000</td>\n",
              "      <td>1</td>\n",
              "      <td>1</td>\n",
              "      <td>2</td>\n",
              "      <td>1.58</td>\n",
              "      <td>110.0</td>\n",
              "      <td>13.4</td>\n",
              "      <td>91.5</td>\n",
              "      <td>5.4</td>\n",
              "      <td>85.0</td>\n",
              "      <td>3.40</td>\n",
              "      <td>3.50</td>\n",
              "      <td>91.0</td>\n",
              "      <td>122.0</td>\n",
              "      <td>242.0</td>\n",
              "      <td>396.0</td>\n",
              "      <td>5.6</td>\n",
              "      <td>0.90</td>\n",
              "      <td>1</td>\n",
              "      <td>10.000000</td>\n",
              "      <td>1.40</td>\n",
              "      <td>53.000000</td>\n",
              "      <td>22.000000</td>\n",
              "      <td>111.000000</td>\n",
              "      <td>0</td>\n",
              "      <td>0.806452</td>\n",
              "    </tr>\n",
              "    <tr>\n",
              "      <th>2</th>\n",
              "      <td>1</td>\n",
              "      <td>0</td>\n",
              "      <td>0</td>\n",
              "      <td>0</td>\n",
              "      <td>0</td>\n",
              "      <td>1</td>\n",
              "      <td>1</td>\n",
              "      <td>1</td>\n",
              "      <td>0</td>\n",
              "      <td>0</td>\n",
              "      <td>1</td>\n",
              "      <td>0</td>\n",
              "      <td>0</td>\n",
              "      <td>0</td>\n",
              "      <td>0</td>\n",
              "      <td>0</td>\n",
              "      <td>0</td>\n",
              "      <td>0</td>\n",
              "      <td>0</td>\n",
              "      <td>0</td>\n",
              "      <td>0</td>\n",
              "      <td>0</td>\n",
              "      <td>1</td>\n",
              "      <td>49</td>\n",
              "      <td>0.000000</td>\n",
              "      <td>0.000000</td>\n",
              "      <td>0</td>\n",
              "      <td>1</td>\n",
              "      <td>1</td>\n",
              "      <td>1.40</td>\n",
              "      <td>138.9</td>\n",
              "      <td>10.4</td>\n",
              "      <td>102.0</td>\n",
              "      <td>3.2</td>\n",
              "      <td>42000.0</td>\n",
              "      <td>2.35</td>\n",
              "      <td>2.72</td>\n",
              "      <td>119.0</td>\n",
              "      <td>183.0</td>\n",
              "      <td>143.0</td>\n",
              "      <td>211.0</td>\n",
              "      <td>7.3</td>\n",
              "      <td>0.80</td>\n",
              "      <td>5</td>\n",
              "      <td>2.600000</td>\n",
              "      <td>2.19</td>\n",
              "      <td>171.000000</td>\n",
              "      <td>126.000000</td>\n",
              "      <td>1452.000000</td>\n",
              "      <td>0</td>\n",
              "      <td>0.526882</td>\n",
              "    </tr>\n",
              "    <tr>\n",
              "      <th>3</th>\n",
              "      <td>1</td>\n",
              "      <td>1</td>\n",
              "      <td>1</td>\n",
              "      <td>0</td>\n",
              "      <td>0</td>\n",
              "      <td>0</td>\n",
              "      <td>0</td>\n",
              "      <td>1</td>\n",
              "      <td>0</td>\n",
              "      <td>1</td>\n",
              "      <td>1</td>\n",
              "      <td>0</td>\n",
              "      <td>0</td>\n",
              "      <td>0</td>\n",
              "      <td>0</td>\n",
              "      <td>0</td>\n",
              "      <td>0</td>\n",
              "      <td>0</td>\n",
              "      <td>1</td>\n",
              "      <td>1</td>\n",
              "      <td>1</td>\n",
              "      <td>0</td>\n",
              "      <td>1</td>\n",
              "      <td>61</td>\n",
              "      <td>0.006973</td>\n",
              "      <td>20.000000</td>\n",
              "      <td>3</td>\n",
              "      <td>1</td>\n",
              "      <td>1</td>\n",
              "      <td>1.46</td>\n",
              "      <td>9860.0</td>\n",
              "      <td>10.8</td>\n",
              "      <td>92.0</td>\n",
              "      <td>3.0</td>\n",
              "      <td>58.0</td>\n",
              "      <td>3.10</td>\n",
              "      <td>3.20</td>\n",
              "      <td>79.0</td>\n",
              "      <td>108.0</td>\n",
              "      <td>184.0</td>\n",
              "      <td>300.0</td>\n",
              "      <td>7.1</td>\n",
              "      <td>0.52</td>\n",
              "      <td>2</td>\n",
              "      <td>9.000000</td>\n",
              "      <td>1.30</td>\n",
              "      <td>42.000000</td>\n",
              "      <td>25.000000</td>\n",
              "      <td>706.000000</td>\n",
              "      <td>0</td>\n",
              "      <td>0.655914</td>\n",
              "    </tr>\n",
              "    <tr>\n",
              "      <th>4</th>\n",
              "      <td>1</td>\n",
              "      <td>0</td>\n",
              "      <td>1</td>\n",
              "      <td>0</td>\n",
              "      <td>0</td>\n",
              "      <td>0</td>\n",
              "      <td>1</td>\n",
              "      <td>1</td>\n",
              "      <td>0</td>\n",
              "      <td>0</td>\n",
              "      <td>0</td>\n",
              "      <td>0</td>\n",
              "      <td>0</td>\n",
              "      <td>0</td>\n",
              "      <td>0</td>\n",
              "      <td>0</td>\n",
              "      <td>0</td>\n",
              "      <td>1</td>\n",
              "      <td>1</td>\n",
              "      <td>1</td>\n",
              "      <td>0</td>\n",
              "      <td>0</td>\n",
              "      <td>1</td>\n",
              "      <td>41</td>\n",
              "      <td>52.389143</td>\n",
              "      <td>46.519351</td>\n",
              "      <td>0</td>\n",
              "      <td>1</td>\n",
              "      <td>2</td>\n",
              "      <td>1.05</td>\n",
              "      <td>100809.0</td>\n",
              "      <td>13.0</td>\n",
              "      <td>94.2</td>\n",
              "      <td>5.7</td>\n",
              "      <td>196.0</td>\n",
              "      <td>4.40</td>\n",
              "      <td>3.00</td>\n",
              "      <td>90.0</td>\n",
              "      <td>334.0</td>\n",
              "      <td>494.0</td>\n",
              "      <td>236.0</td>\n",
              "      <td>7.6</td>\n",
              "      <td>0.80</td>\n",
              "      <td>5</td>\n",
              "      <td>2.825013</td>\n",
              "      <td>1.10</td>\n",
              "      <td>42.373775</td>\n",
              "      <td>17.538103</td>\n",
              "      <td>202.523324</td>\n",
              "      <td>0</td>\n",
              "      <td>0.440860</td>\n",
              "    </tr>\n",
              "  </tbody>\n",
              "</table>\n",
              "</div>"
            ],
            "text/plain": [
              "   gender  symptoms  alcohol  ...     ferritin  class_attribute      age_\n",
              "0       1         1        1  ...   399.772698                0  0.827957\n",
              "1       1         0        1  ...   111.000000                0  0.806452\n",
              "2       1         0        0  ...  1452.000000                0  0.526882\n",
              "3       1         1        1  ...   706.000000                0  0.655914\n",
              "4       1         0        1  ...   202.523324                0  0.440860\n",
              "\n",
              "[5 rows x 51 columns]"
            ]
          },
          "metadata": {
            "tags": []
          },
          "execution_count": 21
        }
      ]
    },
    {
      "cell_type": "code",
      "metadata": {
        "id": "5mCCY7o4iH2X",
        "colab_type": "code",
        "colab": {}
      },
      "source": [
        "#Rearranging the columns such that the class attributes become the last column\n",
        "\n",
        "cols=list(df.columns)\n",
        "cols= cols[:-2] + [cols[-1]] + [cols[-2]]\n",
        "df=df[cols]"
      ],
      "execution_count": 0,
      "outputs": []
    },
    {
      "cell_type": "code",
      "metadata": {
        "id": "K2QMOC_9jo1N",
        "colab_type": "code",
        "outputId": "1f77c619-0f11-4b26-b65d-8f68deb3e701",
        "colab": {
          "base_uri": "https://localhost:8080/",
          "height": 335
        }
      },
      "source": [
        "columns=df.columns\n",
        "columns"
      ],
      "execution_count": 23,
      "outputs": [
        {
          "output_type": "execute_result",
          "data": {
            "text/plain": [
              "Index(['gender', 'symptoms', 'alcohol', 'hepatitis_b_surface_antigen',\n",
              "       'hepatitis_b_e_antigen', 'hepatitis_b_core_antibody',\n",
              "       'hepatitis_c_virus_antibody', 'cirrhosis', 'endemic_countries',\n",
              "       'smoking', 'diabetes', 'obesity', 'hemochromatosis',\n",
              "       'arterial_hypertension', 'chronic_renal_insufficiency',\n",
              "       'human_immunodeficiency_virus', 'nonalcoholic_steatohepatitis',\n",
              "       'esophageal_varices', 'splenomegaly', 'portal_hypertension',\n",
              "       'portal_vein_thrombosis', 'liver_metastasis', 'radiological_hallmark',\n",
              "       'age', 'grams_of_alcohol_per_day', 'packs_of_cigarets_per_year',\n",
              "       'performance_status', 'encephalopathy_degree', 'ascites_degree',\n",
              "       'international_normalised_ratio', 'alpha-fetoprotein', 'haemoglobin',\n",
              "       'mean_corpuscular_volume', 'leukocytes', 'platelets', 'albumin',\n",
              "       'total_bilirubin', 'alanine_transaminase', 'aspartate_transaminase',\n",
              "       'gamma_glutamyl_transferase', 'alkaline_phosphatase', 'total_proteins',\n",
              "       'creatinine', 'number_of_nodules', 'major_dimension_of_nodule_cm',\n",
              "       'direct_bilirubin_mg/dL', 'iron', 'oxygen_saturation_%', 'ferritin',\n",
              "       'age_', 'class_attribute'],\n",
              "      dtype='object')"
            ]
          },
          "metadata": {
            "tags": []
          },
          "execution_count": 23
        }
      ]
    },
    {
      "cell_type": "markdown",
      "metadata": {
        "id": "jR9TzzK5zmkT",
        "colab_type": "text"
      },
      "source": [
        "## Defining Train and Test Data"
      ]
    },
    {
      "cell_type": "code",
      "metadata": {
        "id": "zr5h6geWlUIH",
        "colab_type": "code",
        "colab": {}
      },
      "source": [
        "X=df.iloc[:,:-1]\n",
        "y=df.iloc[:,-1]"
      ],
      "execution_count": 0,
      "outputs": []
    },
    {
      "cell_type": "code",
      "metadata": {
        "id": "xNeVGsFola6D",
        "colab_type": "code",
        "colab": {}
      },
      "source": [
        "X_train,X_test,y_train,y_test=train_test_split(X,y,test_size=0.2,random_state=100)"
      ],
      "execution_count": 0,
      "outputs": []
    },
    {
      "cell_type": "markdown",
      "metadata": {
        "id": "dVOHgr1szueo",
        "colab_type": "text"
      },
      "source": [
        "## Baseline 1: Decision Tree "
      ]
    },
    {
      "cell_type": "code",
      "metadata": {
        "id": "xlU9YYxqleNd",
        "colab_type": "code",
        "outputId": "a6fd213b-3391-4302-d0b7-182a110c75c9",
        "colab": {
          "base_uri": "https://localhost:8080/",
          "height": 442
        }
      },
      "source": [
        "clf_dt=DecisionTreeClassifier(criterion=\"entropy\", random_state=100, max_depth=3, min_samples_leaf=5)\n",
        "clf_dt.fit(X_train,y_train)\n",
        "y_predict=clf_dt.predict(X_test)\n",
        "plot_confusion_matrix(clf_dt,X_test,y_test, cmap=plt.cm.Blues)\n",
        "print(classification_report(y_test, y_predict))"
      ],
      "execution_count": 26,
      "outputs": [
        {
          "output_type": "stream",
          "text": [
            "              precision    recall  f1-score   support\n",
            "\n",
            "           0       0.50      0.15      0.24        13\n",
            "           1       0.62      0.90      0.73        20\n",
            "\n",
            "    accuracy                           0.61        33\n",
            "   macro avg       0.56      0.53      0.48        33\n",
            "weighted avg       0.57      0.61      0.54        33\n",
            "\n"
          ],
          "name": "stdout"
        },
        {
          "output_type": "display_data",
          "data": {
            "image/png": "[encoded data removed]",
            "text/plain": [
              "<Figure size 432x288 with 2 Axes>"
            ]
          },
          "metadata": {
            "tags": [],
            "needs_background": "light"
          }
        }
      ]
    },
    {
      "cell_type": "code",
      "metadata": {
        "id": "U1VT5WqXxhFa",
        "colab_type": "code",
        "outputId": "29414fd8-fe11-40c5-f8ed-7b593fb2646e",
        "colab": {
          "base_uri": "https://localhost:8080/",
          "height": 141
        }
      },
      "source": [
        "score1=accuracy_score(y_test,y_predict)\n",
        "print(\"Accuracy (without cross-validation) : {}\".format(score1))\n",
        "\n",
        "score2 = cross_val_score(clf_dt, X_train, y_train, cv=10)\n",
        "print(score2)\n",
        "print(\"Accuracy (after cross-validation): {} (+/- {})\".format(score2.mean(),score2.std()))\n",
        "\n",
        "score3 = cross_val_score(clf_dt, X_train, y_train, cv=10,scoring=make_scorer(cohen_kappa_score))\n",
        "print(score3)\n",
        "print(\"Cohen Kappa Score (after cross-validation): {} (+/- {})\".format(score3.mean(),score3.std()))\n"
      ],
      "execution_count": 27,
      "outputs": [
        {
          "output_type": "stream",
          "text": [
            "Accuracy (without cross-validation) : 0.6060606060606061\n",
            "[0.57142857 0.64285714 0.53846154 0.76923077 0.61538462 0.76923077\n",
            " 0.53846154 0.69230769 0.46153846 0.69230769]\n",
            "Accuracy (after cross-validation): 0.6291208791208791 (+/- 0.09771109474603704)\n",
            "[ 0.14285714  0.1025641   0.09302326  0.49350649  0.26966292  0.49350649\n",
            " -0.14705882  0.2972973  -0.18181818  0.35      ]\n",
            "Cohen Kappa Score (after cross-validation): 0.19135407015462044 (+/- 0.22333882870852947)\n"
          ],
          "name": "stdout"
        }
      ]
    },
    {
      "cell_type": "code",
      "metadata": {
        "id": "9PPj6Fh7cj1C",
        "colab_type": "code",
        "colab": {}
      },
      "source": [
        "#cohen_kappa_score(y_test, y_predict, labels=None, weights=None)"
      ],
      "execution_count": 0,
      "outputs": []
    },
    {
      "cell_type": "markdown",
      "metadata": {
        "id": "ZGwCOkSI05pw",
        "colab_type": "text"
      },
      "source": [
        "## Baseline 2: Random Forest"
      ]
    },
    {
      "cell_type": "code",
      "metadata": {
        "id": "slWbh4xSr7Fk",
        "colab_type": "code",
        "outputId": "04721714-71b9-4001-d919-634a3ee45131",
        "colab": {
          "base_uri": "https://localhost:8080/",
          "height": 438
        }
      },
      "source": [
        "clf_rf=RandomForestClassifier(n_jobs=2,random_state=0)\n",
        "clf_rf.fit(X_train,y_train)\n",
        "y_predict=clf_rf.predict(X_test)\n",
        "plot_confusion_matrix(clf_rf,X_test,y_test, cmap=plt.cm.Blues)\n",
        "print(classification_report(y_test, y_predict))"
      ],
      "execution_count": 29,
      "outputs": [
        {
          "output_type": "stream",
          "text": [
            "              precision    recall  f1-score   support\n",
            "\n",
            "           0       0.70      0.54      0.61        13\n",
            "           1       0.74      0.85      0.79        20\n",
            "\n",
            "    accuracy                           0.73        33\n",
            "   macro avg       0.72      0.69      0.70        33\n",
            "weighted avg       0.72      0.73      0.72        33\n",
            "\n"
          ],
          "name": "stdout"
        },
        {
          "output_type": "display_data",
          "data": {
            "image/png": "[encoded data removed]",
            "text/plain": [
              "<Figure size 432x288 with 2 Axes>"
            ]
          },
          "metadata": {
            "tags": [],
            "needs_background": "light"
          }
        }
      ]
    },
    {
      "cell_type": "code",
      "metadata": {
        "id": "10r3YbRr1ILq",
        "colab_type": "code",
        "outputId": "eb366ed2-bbe3-4840-c576-9da4d5fffc50",
        "colab": {
          "base_uri": "https://localhost:8080/",
          "height": 141
        }
      },
      "source": [
        "score1_rf=accuracy_score(y_test,y_predict)\n",
        "print(\"Accuracy (without cross-validation) : {}\".format(score1_rf))\n",
        "\n",
        "score2_rf = cross_val_score(clf_rf, X_train, y_train, cv=10)\n",
        "print(score2_rf)\n",
        "print(\"Accuracy (after cross-validation): {} (+/- {})\".format(score2_rf.mean(),score2_rf.std()))\n",
        "\n",
        "score3_rf = cross_val_score(clf_rf, X_train, y_train, cv=10,scoring=make_scorer(cohen_kappa_score))\n",
        "print(score3_rf)\n",
        "print(\"Cohen Kappa Score (after cross-validation): {} (+/- {})\".format(score3_rf.mean(),score3_rf.std()))\n"
      ],
      "execution_count": 30,
      "outputs": [
        {
          "output_type": "stream",
          "text": [
            "Accuracy (without cross-validation) : 0.7272727272727273\n",
            "[0.64285714 0.64285714 0.69230769 0.61538462 0.61538462 0.69230769\n",
            " 0.84615385 0.61538462 0.53846154 0.69230769]\n",
            "Accuracy (after cross-validation): 0.6593406593406594 (+/- 0.07688382043829363)\n",
            "[ 0.18604651  0.1025641   0.39534884  0.15584416  0.15584416  0.2972973\n",
            "  0.675       0.21686747 -0.05405405  0.2972973 ]\n",
            "Cohen Kappa Score (after cross-validation): 0.24280557735096825 (+/- 0.18515194484876535)\n"
          ],
          "name": "stdout"
        }
      ]
    },
    {
      "cell_type": "code",
      "metadata": {
        "id": "3z7ql9ygcp2Y",
        "colab_type": "code",
        "colab": {}
      },
      "source": [
        "#cohen_kappa_score(y_test, y_predict, labels=None, weights=None)"
      ],
      "execution_count": 0,
      "outputs": []
    },
    {
      "cell_type": "markdown",
      "metadata": {
        "id": "PoPnw6vT1tne",
        "colab_type": "text"
      },
      "source": [
        "## Partitioning the dataset into 10 bins, keeping the imbalance ratio from the original dataset "
      ]
    },
    {
      "cell_type": "code",
      "metadata": {
        "id": "3S-W-CxXESlX",
        "colab_type": "code",
        "outputId": "5f0a18de-d9a0-4067-8559-f886be81422e",
        "colab": {
          "base_uri": "https://localhost:8080/",
          "height": 88
        }
      },
      "source": [
        "#Original Imbalance\n",
        "\n",
        "target_count=df.class_attribute.value_counts()\n",
        "print(target_count)\n",
        "\n",
        "imbalance_target=(target_count[1]/(target_count[0]+target_count[1]))*100\n",
        "print(imbalance_target)\n"
      ],
      "execution_count": 13,
      "outputs": [
        {
          "output_type": "stream",
          "text": [
            "1    102\n",
            "0     63\n",
            "Name: class_attribute, dtype: int64\n",
            "61.81818181818181\n"
          ],
          "name": "stdout"
        }
      ]
    },
    {
      "cell_type": "code",
      "metadata": {
        "id": "YgxebliAHrP3",
        "colab_type": "code",
        "colab": {}
      },
      "source": [
        "def create_bins (df,no_of_bins,orig_imbalance):\n",
        "  df_class0=df[df['class_attribute']==0]\n",
        "  df_class1=df[df['class_attribute']==1]\n",
        "\n",
        "  len0=int(len(df_class0)/no_of_bins)\n",
        "  len1=int(len(df_class1)/no_of_bins)\n",
        "\n",
        "  ind0=0\n",
        "  ind1=0\n",
        "  start0=0\n",
        "  start1=0\n",
        "\n",
        "  bins=[]\n",
        "\n",
        "  print(\"Original Imbalance in the dataset: {} %\".format(orig_imbalance))\n",
        "  for i in range(no_of_bins):\n",
        "    ind0+=len0\n",
        "    ind1+=len1\n",
        "    bin_=pd.concat([df_class1.iloc[start1:ind1,:],df_class0.iloc[start0:ind0,:]])\n",
        "    target_cnt=bin_.class_attribute.value_counts()\n",
        "    imbalance=(target_cnt[1]/(target_cnt[0]+target_cnt[1]))*100\n",
        "    print(\"Class imbalance ratio in bin {} : {} %\".format(i,imbalance))\n",
        "    bins.append(bin_.values)\n",
        "    start0+=len0\n",
        "    start1+=len1\n",
        "\n",
        "  return bins\n",
        "\n"
      ],
      "execution_count": 0,
      "outputs": []
    },
    {
      "cell_type": "code",
      "metadata": {
        "id": "NxLmpvipLhWS",
        "colab_type": "code",
        "outputId": "143f300b-41e9-4b12-d656-8f0055985422",
        "colab": {
          "base_uri": "https://localhost:8080/",
          "height": 211
        }
      },
      "source": [
        "bins= create_bins(df,10, imbalance_target) #Partitioning the dataset into 10 bins"
      ],
      "execution_count": 15,
      "outputs": [
        {
          "output_type": "stream",
          "text": [
            "Original Imbalance in the dataset: 61.81818181818181 %\n",
            "Class imbalance ratio in bin 0 : 62.5 %\n",
            "Class imbalance ratio in bin 1 : 62.5 %\n",
            "Class imbalance ratio in bin 2 : 62.5 %\n",
            "Class imbalance ratio in bin 3 : 62.5 %\n",
            "Class imbalance ratio in bin 4 : 62.5 %\n",
            "Class imbalance ratio in bin 5 : 62.5 %\n",
            "Class imbalance ratio in bin 6 : 62.5 %\n",
            "Class imbalance ratio in bin 7 : 62.5 %\n",
            "Class imbalance ratio in bin 8 : 62.5 %\n",
            "Class imbalance ratio in bin 9 : 62.5 %\n"
          ],
          "name": "stdout"
        }
      ]
    },
    {
      "cell_type": "code",
      "metadata": {
        "id": "oHeyWOWr9qSR",
        "colab_type": "code",
        "colab": {}
      },
      "source": [
        "model_accuracies={} #A dictionary to save the accuracies for the different permutations of the bins\n",
        "model_kappa_scores={} #A dictionary to save the cohen kappa scores for the different permutations of the bins"
      ],
      "execution_count": 0,
      "outputs": []
    },
    {
      "cell_type": "markdown",
      "metadata": {
        "id": "8dN3FIS21bf-",
        "colab_type": "text"
      },
      "source": [
        "## Analyzing the number of clusters using Elbow method and Silhouette method"
      ]
    },
    {
      "cell_type": "code",
      "metadata": {
        "id": "wTXY79n0YkBg",
        "colab_type": "code",
        "outputId": "e341525a-4242-4861-fb59-3b6bedd3fa45",
        "colab": {
          "base_uri": "https://localhost:8080/",
          "height": 628
        }
      },
      "source": [
        "#***** CHANGE MANUALLY DURING EACH ITERATION *****#\n",
        "\n",
        "i=9 # The bin index to be left-out while training, and used only for testing \n",
        "\n",
        "#************************************************#\n",
        "\n",
        "#CREATE TESTING DATA\n",
        "\n",
        "leave_out=i #for indexing while saving the model accuracies to a dictionary\n",
        "test_data=bins[i] \n",
        "\n",
        "#CREATE TRAINING DATA\n",
        "\n",
        "compile9=np.vstack((bins[j] for j in range(10) if j!=i )) #combining data from all other bins except the left-out one\n",
        "data=pd.DataFrame(compile9)\n",
        "data.columns=columns\n",
        "mms=MinMaxScaler() #normalizing the data\n",
        "mms.fit(data)\n",
        "data_transformed=mms.transform(data)\n",
        "\n",
        "#ELBOW METHOD TO IDENTIFY THE NUMBER OF CLUSTERS\n",
        "\n",
        "Sum_of_squared_distances = []\n",
        "K = range(2,11)\n",
        "for k in K:\n",
        "    km = KMeans(n_clusters=k,random_state=1)\n",
        "    km = km.fit(data_transformed)\n",
        "    Sum_of_squared_distances.append(km.inertia_)\n",
        "plt.plot(K, Sum_of_squared_distances, 'bx-')\n",
        "plt.xlabel('k')\n",
        "plt.ylabel('Sum_of_squared_distances')\n",
        "plt.title('Elbow Method For Optimal k')\n",
        "plt.show()\n",
        "\n",
        "#SILHOUETTE METHOD TO IDENTIFY THE NUMBER OF CLUSTERS\n",
        "K = range(2,11)\n",
        "no_of_clusters=[]\n",
        "silhouette_scores=[]\n",
        "\n",
        "for k in K:\n",
        "    km = KMeans(n_clusters=k,random_state=1)\n",
        "    preds=km.fit_predict(data_transformed)\n",
        "    centers=km.cluster_centers_\n",
        "\n",
        "    score=silhouette_score(data_transformed,preds)\n",
        "\n",
        "    no_of_clusters.append(k)\n",
        "    silhouette_scores.append(score)\n",
        "\n",
        "plt.ylabel(\"Silhouette coefficient\")\n",
        "plt.xlabel(\"k\")\n",
        "plt.title('Silhouette Method For Optimal k')\n",
        "plt.bar(no_of_clusters,silhouette_scores)\n",
        "plt.show()"
      ],
      "execution_count": 17,
      "outputs": [
        {
          "output_type": "stream",
          "text": [
            "/usr/local/lib/python3.6/dist-packages/ipykernel_launcher.py:13: FutureWarning: arrays to stack must be passed as a \"sequence\" type such as list or tuple. Support for non-sequence iterables such as generators is deprecated as of NumPy 1.16 and will raise an error in the future.\n",
            "  del sys.path[0]\n"
          ],
          "name": "stderr"
        },
        {
          "output_type": "display_data",
          "data": {
            "image/png": "[encoded data removed]",
            "text/plain": [
              "<Figure size 432x288 with 1 Axes>"
            ]
          },
          "metadata": {
            "tags": [],
            "needs_background": "light"
          }
        },
        {
          "output_type": "display_data",
          "data": {
            "image/png": "[encoded data removed]",
            "text/plain": [
              "<Figure size 432x288 with 1 Axes>"
            ]
          },
          "metadata": {
            "tags": [],
            "needs_background": "light"
          }
        }
      ]
    },
    {
      "cell_type": "code",
      "metadata": {
        "id": "YaFWKeg9iHXD",
        "colab_type": "code",
        "outputId": "969690f1-7d91-478b-eed0-84615a083cee",
        "colab": {
          "base_uri": "https://localhost:8080/",
          "height": 211
        }
      },
      "source": [
        "#*****CHANGE MANUALLY DURING EACH ITERATION*****#\n",
        "\n",
        "num_of_clusters=3 #Decided after looking at the plots from the previous cell \n",
        "\n",
        "#***********************************************#\n",
        "\n",
        "min_class=0 # The minority class label\n",
        "max_class=1 # The majority class label\n",
        "\n",
        "#***********************************************#\n",
        "\n",
        "#FITTING A K-MEANS CLUSTERING MODEL\n",
        "\n",
        "kmeans = KMeans(n_clusters=num_of_clusters, random_state=1)\n",
        "kmeans.fit_predict(data_transformed)\n",
        "\n",
        "cluster_df=data\n",
        "cluster_df[\"Cluster label\"]=kmeans.labels_\n",
        "cols=list(cluster_df.columns)\n",
        "cols= cols[:-2] + [cols[-1]] + [cols[-2]]\n",
        "cluster_df=cluster_df[cols]\n",
        "  \n",
        "g=globals() #To facilitate naming dynamically\n",
        "\n",
        "#Filtering out the data belonging to each cluster\n",
        "\n",
        "for i in range(0,num_of_clusters):\n",
        "  g['cluster_{}'.format(i)] = cluster_df[cluster_df['Cluster label']==i]\n",
        "\n",
        "#Checking for number of entries from minority class in each cluster\n",
        "\n",
        "for i in range(0,num_of_clusters):\n",
        "  g['clus_{}_class_{}'.format(i,min_class)] = g['cluster_{}'.format(i)][g['cluster_{}'.format(i)]['class_attribute']==min_class]\n",
        "  if (len(g['clus_{}_class_{}'.format(i,min_class)])!=0):\n",
        "    g['X{}'.format(i)]=g['cluster_{}'.format(i)].iloc[:,:-1]\n",
        "    g['y{}'.format(i)]=g['cluster_{}'.format(i)].iloc[:,-1]\n",
        "    g['clf_{}'.format(i)]=RandomForestClassifier(n_jobs=2,random_state=0)\n",
        "    g['clf_{}'.format(i)].fit(g['X{}'.format(i)],g['y{}'.format(i)])\n",
        "    g['Class_val_{}{}'.format(i,min_class)]=min_class\n",
        "  else:\n",
        "    g['Class_val_{}{}'.format(i,min_class)]=max_class\n",
        "  \n",
        "#CREATING THE TEST DATA\n",
        "\n",
        "test_cluster=pd.DataFrame(test_data)\n",
        "test_cluster.columns=df.columns\n",
        "test_cluster[\"Cluster label\"]=kmeans.predict(test_data)\n",
        "cols=list(test_cluster.columns)\n",
        "cols= cols[:-2] + [cols[-1]] + [cols[-2]]\n",
        "test_cluster=test_cluster[cols]\n",
        "\n",
        "#Dividing the results based on cluster label, to predict the class labels of the corresponding entries\n",
        "\n",
        "for i in range(0,num_of_clusters):\n",
        "  g['test_{}'.format(i)] = test_cluster[test_cluster['Cluster label']==i]\n",
        "  if(len(g['test_{}'.format(i)])!=0):\n",
        "    if(g['Class_val_{}{}'.format(i,min_class)]==min_class): #Checking if the dataset contains values from both the classes\n",
        "      g['X_test{}'.format(i)]=g['test_{}'.format(i)].iloc[:,:-1]\n",
        "      g['y_test{}'.format(i)]=g['test_{}'.format(i)].iloc[:,-1]\n",
        "      g['y_pred{}'.format(i)]=g['clf_{}'.format(i)].predict(g['X_test{}'.format(i)])\n",
        "      g['test_{}'.format(i)]['Predicted class']=g['y_pred{}'.format(i)]\n",
        "    else:\n",
        "      g['y_pred{}'.format(i)]=np.full(len(g['test_{}'.format(i)]),max_class)\n",
        "      g['test_{}'.format(i)]['Predicted class']=g['y_pred{}'.format(i)]\n",
        "\n",
        "#Compiling the results and predictions for performance checking\n",
        "\n",
        "final_test=pd.concat([g['test_{}'.format(i)] for i in range(0,num_of_clusters) if(len(g['test_{}'.format(i)])!=0)])\n",
        "trial_accuracy=accuracy_score(final_test.iloc[:,-2],final_test.iloc[:,-1]) #computing accuracy based on real class labels\n",
        "print(\"Accuracy : {}\".format(trial_accuracy))\n",
        "\n",
        "model_accuracies[leave_out]=trial_accuracy #Saving the accuracy for this permutation\n",
        "trial_kappa =cohen_kappa_score(y_test, y_predict, labels=None, weights=None)\n",
        "model_kappa_scores[leave_out]=trial_kappa #Saving the cohen kappa score for this permutation"
      ],
      "execution_count": 18,
      "outputs": [
        {
          "output_type": "stream",
          "text": [
            "Accuracy : 0.5625\n"
          ],
          "name": "stdout"
        },
        {
          "output_type": "stream",
          "text": [
            "/usr/local/lib/python3.6/dist-packages/ipykernel_launcher.py:60: SettingWithCopyWarning: \n",
            "A value is trying to be set on a copy of a slice from a DataFrame.\n",
            "Try using .loc[row_indexer,col_indexer] = value instead\n",
            "\n",
            "See the caveats in the documentation: https://pandas.pydata.org/pandas-docs/stable/user_guide/indexing.html#returning-a-view-versus-a-copy\n",
            "/usr/local/lib/python3.6/dist-packages/ipykernel_launcher.py:60: SettingWithCopyWarning: \n",
            "A value is trying to be set on a copy of a slice from a DataFrame.\n",
            "Try using .loc[row_indexer,col_indexer] = value instead\n",
            "\n",
            "See the caveats in the documentation: https://pandas.pydata.org/pandas-docs/stable/user_guide/indexing.html#returning-a-view-versus-a-copy\n"
          ],
          "name": "stderr"
        }
      ]
    },
    {
      "cell_type": "code",
      "metadata": {
        "id": "ZlYDsUHA-AAF",
        "colab_type": "code",
        "colab": {}
      },
      "source": [
        "#model_accuracies"
      ],
      "execution_count": 0,
      "outputs": []
    },
    {
      "cell_type": "code",
      "metadata": {
        "id": "FI30qLWYsBby",
        "colab_type": "code",
        "outputId": "d97aaa31-b5c6-4b87-e300-16a3c5752deb",
        "colab": {
          "base_uri": "https://localhost:8080/",
          "height": 52
        }
      },
      "source": [
        "acc_values=np.array([model_accuracies[k] for k in model_accuracies])\n",
        "acc_values"
      ],
      "execution_count": 0,
      "outputs": [
        {
          "output_type": "execute_result",
          "data": {
            "text/plain": [
              "array([0.6875, 0.5625, 0.8125, 0.875 , 0.5625, 0.6875, 0.6875, 0.6875,\n",
              "       0.625 , 0.5625])"
            ]
          },
          "metadata": {
            "tags": []
          },
          "execution_count": 425
        }
      ]
    },
    {
      "cell_type": "code",
      "metadata": {
        "id": "otrSB5XZerCw",
        "colab_type": "code",
        "colab": {}
      },
      "source": [
        "#model_kappa_scores"
      ],
      "execution_count": 0,
      "outputs": []
    },
    {
      "cell_type": "code",
      "metadata": {
        "id": "a0EFJggYewKB",
        "colab_type": "code",
        "outputId": "f10d5358-ba25-4aa0-d74e-bb0df15fb2a8",
        "colab": {
          "base_uri": "https://localhost:8080/",
          "height": 52
        }
      },
      "source": [
        "kappa_values=np.array([model_kappa_scores[k] for k in model_kappa_scores])\n",
        "kappa_values"
      ],
      "execution_count": 0,
      "outputs": [
        {
          "output_type": "execute_result",
          "data": {
            "text/plain": [
              "array([0.40480962, 0.40480962, 0.40480962, 0.40480962, 0.40480962,\n",
              "       0.40480962, 0.40480962, 0.40480962, 0.40480962, 0.40480962])"
            ]
          },
          "metadata": {
            "tags": []
          },
          "execution_count": 427
        }
      ]
    },
    {
      "cell_type": "code",
      "metadata": {
        "id": "eoG7cXXtECgF",
        "colab_type": "code",
        "outputId": "9e50dec7-2532-4033-9e85-84b07571379d",
        "colab": {
          "base_uri": "https://localhost:8080/",
          "height": 123
        }
      },
      "source": [
        "print(\"Decision Tree model:\")\n",
        "print(\"Accuracy (after cross-validation): {} (+/- {})\".format(score2.mean(),score2.std()))\n",
        "print(\"Random Forest model:\")\n",
        "print(\"Accuracy (after cross-validation): {} (+/- {})\".format(score2_rf.mean(),score2_rf.std()))\n",
        "print(\"New model:\")\n",
        "print(\"Accuracy : {} (+/- {})\".format(acc_values.mean(),acc_values.std()))"
      ],
      "execution_count": 37,
      "outputs": [
        {
          "output_type": "stream",
          "text": [
            "Decision Tree model:\n",
            "Accuracy (after cross-validation): 0.6291208791208791 (+/- 0.09771109474603704)\n",
            "Random Forest model:\n",
            "Accuracy (after cross-validation): 0.6593406593406594 (+/- 0.07688382043829363)\n",
            "New model:\n",
            "Accuracy : 0.675 (+/- 0.09999999999999999)\n"
          ],
          "name": "stdout"
        }
      ]
    },
    {
      "cell_type": "code",
      "metadata": {
        "id": "86nYZ_F2EKJT",
        "colab_type": "code",
        "outputId": "7bd0ccde-d756-48ca-e290-a9f2ab5bdb52",
        "colab": {
          "base_uri": "https://localhost:8080/",
          "height": 88
        }
      },
      "source": [
        "print(\"Kappa Scores:\")\n",
        "print(\"Decision Tree: : {} (+/- {})\".format(score3.mean(),score3.std()))\n",
        "print(\"Random Forest: : {} (+/- {})\".format(score3_rf.mean(),score3_rf.std()))\n",
        "print(\"New Model: : {} (+/- {})\".format(kappa_values.mean(),kappa_values.std()))"
      ],
      "execution_count": 38,
      "outputs": [
        {
          "output_type": "stream",
          "text": [
            "Kappa Scores:\n",
            "Decision Tree: : 0.19135407015462044 (+/- 0.22333882870852947)\n",
            "Random Forest: : 0.24280557735096825 (+/- 0.18515194484876535)\n",
            "New Model: : 0.40480962 (+/- 0.0)\n"
          ],
          "name": "stdout"
        }
      ]
    },
    {
      "cell_type": "markdown",
      "metadata": {
        "id": "PZhzQSEmA5Si",
        "colab_type": "text"
      },
      "source": [
        "## Permutation Tests"
      ]
    },
    {
      "cell_type": "code",
      "metadata": {
        "id": "94pOQCGffT0J",
        "colab_type": "code",
        "colab": {}
      },
      "source": [
        "def calc_pvalue(iterations,data_1,data_2,t_obs):\n",
        "  concat = np.concatenate((data_1,data_2))\n",
        "  cnt=0\n",
        "  for i in range(0,iterations):\n",
        "    perm = np.random.permutation(concat)\n",
        "    pcurrent = perm[:len(data_1)]\n",
        "    pnew = perm[len(data_1):]\n",
        "    mean_perm_current=pcurrent.mean()\n",
        "    mean_perm_new=pnew.mean()\n",
        "    t_perm=mean_perm_new-mean_perm_current\n",
        "    if(t_perm>t_obs):\n",
        "      cnt+=1\n",
        "  p_value=cnt/iterations\n",
        "  return p_value"
      ],
      "execution_count": 0,
      "outputs": []
    },
    {
      "cell_type": "code",
      "metadata": {
        "id": "unChakcrA-Ge",
        "colab_type": "code",
        "outputId": "c19640af-55f4-4ef0-c50f-4ace598f6f81",
        "colab": {
          "base_uri": "https://localhost:8080/",
          "height": 158
        }
      },
      "source": [
        "acc_old_1 = np.array([0.57142857, 0.64285714, 0.53846154, 0.76923077, 0.61538462, 0.76923077, 0.53846154, 0.69230769, 0.46153846, 0.69230769])\n",
        "kappa_old_1=np.array([ 0.14285714,  0.1025641,   0.09302326,  0.49350649,  0.26966292,  0.49350649, -0.14705882,  0.2972973,  -0.18181818,  0.35      ])\n",
        "acc_old_2=np.array([0.64285714, 0.64285714, 0.69230769, 0.61538462, 0.61538462, 0.69230769, 0.84615385, 0.61538462, 0.53846154, 0.69230769])\n",
        "kappa_old_2=np.array([ 0.18604651,  0.1025641,   0.39534884,  0.15584416,  0.15584416,  0.2972973,  0.675, 0.21686747, -0.05405405,  0.2972973 ])\n",
        "\n",
        "acc_new=np.array([0.6875, 0.5625, 0.8125, 0.875 , 0.5625, 0.6875, 0.6875, 0.6875, 0.625 , 0.5625])\n",
        "kappa_new=np.array([0.40480962, 0.40480962, 0.40480962, 0.40480962, 0.40480962, 0.40480962, 0.40480962, 0.40480962, 0.40480962, 0.40480962])\n",
        "\n",
        "#Accuracy: DT and new\n",
        "mean_old=acc_old_1.mean()\n",
        "mean_new=acc_new.mean()\n",
        "t_obs=mean_new-mean_old\n",
        "p_val=calc_pvalue(50000,acc_old_1,acc_new,t_obs)\n",
        "print(\"Accuracy comparison between Decision Tree and new method:\")\n",
        "print(\"p-value: {}\".format(p_val))\n",
        "\n",
        "#Accuracy: RF and new\n",
        "mean_old=acc_old_2.mean()\n",
        "mean_new=acc_new.mean()\n",
        "t_obs=mean_new-mean_old\n",
        "p_val=calc_pvalue(50000,acc_old_2,acc_new,t_obs)\n",
        "print(\"Accuracy comparison between Random Forest and new method:\")\n",
        "print(\"p-value: {}\".format(p_val))\n",
        "\n",
        "#Kappa: DT and new\n",
        "mean_old=kappa_old_1.mean()\n",
        "mean_new=kappa_new.mean()\n",
        "t_obs=mean_new-mean_old\n",
        "p_val=calc_pvalue(50000,kappa_old_1,kappa_new,t_obs)\n",
        "print(\"Kappa comparison between Decision Tree and new method:\")\n",
        "print(\"p-value: {}\".format(p_val))\n",
        "\n",
        "#Kappa: RF and new\n",
        "mean_old=kappa_old_2.mean()\n",
        "mean_new=kappa_new.mean()\n",
        "t_obs=mean_new-mean_old\n",
        "p_val=calc_pvalue(50000,kappa_old_2,acc_new,t_obs)\n",
        "print(\"Kappa comparison between Random Forest and new method:\")\n",
        "print(\"p-value: {}\".format(p_val))"
      ],
      "execution_count": 40,
      "outputs": [
        {
          "output_type": "stream",
          "text": [
            "Accuracy comparison between Decision Tree and new method:\n",
            "p-value: 0.1672\n",
            "Accuracy comparison between Random Forest and new method:\n",
            "p-value: 0.36176\n",
            "Kappa comparison between Decision Tree and new method:\n",
            "p-value: 0.0039\n",
            "Kappa comparison between Random Forest and new method:\n",
            "p-value: 0.09408\n"
          ],
          "name": "stdout"
        }
      ]
    },
    {
      "cell_type": "code",
      "metadata": {
        "id": "WeAtS8OvBaBg",
        "colab_type": "code",
        "colab": {}
      },
      "source": [
        ""
      ],
      "execution_count": 0,
      "outputs": []
    }
  ]
}